{
 "cells": [
  {
   "cell_type": "code",
   "execution_count": 3,
   "id": "c17af473",
   "metadata": {},
   "outputs": [],
   "source": [
    "%display latex"
   ]
  },
  {
   "cell_type": "code",
   "execution_count": 4,
   "id": "6ac2262e",
   "metadata": {},
   "outputs": [],
   "source": [
    "from sage.combinat.q_analogues import *\n",
    "from sage.combinat.sf.sfa import *\n",
    "from itertools import product"
   ]
  },
  {
   "cell_type": "code",
   "execution_count": 5,
   "id": "5ef5a303",
   "metadata": {},
   "outputs": [
    {
     "name": "stdout",
     "output_type": "stream",
     "text": [
      "Defining e as shorthand for Symmetric Functions over Rational Field in the elementary basis\n",
      "Defining f as shorthand for Symmetric Functions over Rational Field in the forgotten basis\n",
      "Defining h as shorthand for Symmetric Functions over Rational Field in the homogeneous basis\n",
      "Defining m as shorthand for Symmetric Functions over Rational Field in the monomial basis\n",
      "Defining p as shorthand for Symmetric Functions over Rational Field in the powersum basis\n",
      "Defining s as shorthand for Symmetric Functions over Rational Field in the Schur basis\n"
     ]
    }
   ],
   "source": [
    "Sym = SymmetricFunctions(QQ)\n",
    "Sym.inject_shorthands()"
   ]
  },
  {
   "cell_type": "code",
   "execution_count": 6,
   "id": "0f58e79b",
   "metadata": {},
   "outputs": [],
   "source": [
    "Qqt=QQ['q','t']\n",
    "Rqt=FractionField(Qqt)\n",
    "Sym = SymmetricFunctions(Rqt)\n",
    "S = SymmetricFunctions(QQ)\n",
    "Sym.inject_shorthands(verbose=False)\n",
    "H = Sym.macdonald().Ht()\n",
    "t=H.t\n",
    "q=H.q\n",
    "\n",
    "s.set_print_style('length')\n",
    "e.set_print_style('length')\n",
    "H.set_print_style('length')\n",
    "\n",
    "One=s([])\n",
    "X=tensor([s[1],s[0]])\n",
    "Y=tensor([s[0],s[1]])\n",
    "M=(1-q)*(1-t)\n",
    "def mystr(i): \n",
    "    if i<10: \n",
    "        return str(i) \n",
    "    else: \n",
    "        return ''.join([str(i),\".\"])"
   ]
  },
  {
   "cell_type": "code",
   "execution_count": 7,
   "id": "eb037281",
   "metadata": {},
   "outputs": [],
   "source": [
    "def InSchur(F):\n",
    "    try:\n",
    "        return s(Sym(S.from_polynomial(Rqt(F).numerator()))).restrict_partition_lengths(2,exact=false)\n",
    "    except:\n",
    "        return F"
   ]
  },
  {
   "cell_type": "code",
   "execution_count": 64,
   "id": "1c8ac560",
   "metadata": {},
   "outputs": [],
   "source": [
    "#Moves 1 from position j to position j+1 in v\n",
    "def g(j,v):\n",
    "    v[j]=v[j]-1\n",
    "    v[j+1]=v[j+1]+1\n",
    "    return v\n",
    "\n",
    "#Returns the maximal chain of the poset for a=4, b, and k\n",
    "def maxchain(b,k):\n",
    "    L=[]\n",
    "    if k==0:\n",
    "        L=[[3]]\n",
    "    else:\n",
    "        v=[2]+[0]*(k-1)+[1]+[0]*k\n",
    "        L.append(copy(v))\n",
    "        for i in range(2):\n",
    "            for j in range(2*k):\n",
    "                v=g(j,v)\n",
    "                L.append(copy(v))\n",
    "    return L\n",
    "\n",
    "#Adds n 0's at the beginning and the end of the vectors of L\n",
    "def embed(L,n):\n",
    "    for i in range(len(L)):\n",
    "        L[i]=[0]*n+L[i]+[0]*n\n",
    "    return L\n",
    "\n",
    "#Returns the n^th set of chains from the maximal one for a=4 and b,\n",
    "#n=0 is the set of maximal chains, 0=< n =< b//2\n",
    "def chains(b,n):\n",
    "    L=[]\n",
    "    for k in range(b//2+1-n):\n",
    "        K=maxchain(b,k)\n",
    "        L=L+copy(K)\n",
    "    embed(L,n)\n",
    "    return L\n",
    "\n",
    "#Returns L which contains all the sets of chains in our decomposition of all the posets,\n",
    "#L[n] being the set of the n^th chains in all the posets (0 being the maximal chains)\n",
    "def setChains(b):\n",
    "    L=[]\n",
    "    for n in range(b//2+1):\n",
    "        L=L+[chains(b,n)]\n",
    "    return L\n",
    "\n",
    "# Polynôme associé à un vecteur (alpha,delta,beta) fixé\n",
    "def monomials(M,b,s):\n",
    "    i=M[s]\n",
    "    r=1\n",
    "    k=len(i)//2\n",
    "    for j in range(k):\n",
    "        r=r*(q^(b-j)*t^j)^i[j] *(t^(b-j)*q^j)^i[2*k-j]\n",
    "    r=r*(q*t)^(k*(i[k]+1))*h([(b-2*k)*(i[k]+1)]).expand(2,alphabet='q,t')\n",
    "    return r\n",
    "\n",
    "# Somme des polynômes associés aux vecteurs (alpha,delta,beta) pour k fixé\n",
    "def polynomials(M,b):\n",
    "    P=0\n",
    "    for s in range(len(M)):\n",
    "        P=P+monomials(M,b,s)\n",
    "    return P\n",
    "\n",
    "#Tests the positivity of every set of chains,\n",
    "#If it returns K=[], the decomposition is Schur positive\n",
    "def testPos(b):\n",
    "    L=setChains(b)\n",
    "    K=[]\n",
    "    for n in range(len(L)):\n",
    "        if InSchur(polynomials(L[n],b)).is_schur_positive()==false:\n",
    "            K=K+[[n,L[n]]]\n",
    "    return K\n",
    "\n",
    "#Return the Schur decomposition for a=4 and b\n",
    "def Coef(b):\n",
    "    L=setChains(b)\n",
    "    P=0\n",
    "    for n in range (len(L)):\n",
    "        P=P+InSchur(polynomials(L[n],b))\n",
    "    return P\n",
    "\n",
    "#Return the Schur decomposition of every set of chains for a=4 and b\n",
    "#P[n] is the decomposition for the n^th set of chains\n",
    "def CoefChains(b):\n",
    "    L=setChains(b)\n",
    "    P=[]\n",
    "    for n in range (len(L)):\n",
    "        P=P+[InSchur(polynomials(L[n],b))]\n",
    "    return P\n",
    "\n",
    "#Returns the n^th set of chains from the maximal one for a=4 and b, for 0=< n =< b//2\n",
    "#Each chain is in a different coordonate, L[k] is the n^th chain in the k^th poset \n",
    "def chainsAux(b,n):\n",
    "    L=[]\n",
    "    for k in range(b//2+1-n):\n",
    "        K=maxchain(b,k)\n",
    "        L=L+[copy(K)]\n",
    "    for i in range(len(L)):\n",
    "        embed(L[i],n)\n",
    "    return L\n",
    "\n",
    "#Returns L which contains all the sets of chains in our decomposition of all the posets,\n",
    "#L[n] being the set of the n^th chains in all the posets separated into chains and\n",
    "#L[n][k] being the n^th chain of the k^th poset\n",
    "def setChainsAux(b):\n",
    "    L=[]\n",
    "    for i in range(b//2+1):\n",
    "        L=L+[chainsAux(b,i)]\n",
    "    return L\n",
    "\n",
    "#Return the Schur decomposition of every set of chains for a=4 and b\n",
    "#P[n][k] is the decomposition for the n^th chain of the k^th poset\n",
    "def CoefChainsAux(b):\n",
    "    L=setChainsAux(b)\n",
    "    P=[]\n",
    "    for n in range(len(L)):\n",
    "        for k in range(len(L[n])):\n",
    "            K=[]\n",
    "            K=K+[InSchur(polynomials(L[n][k],b))]\n",
    "            P=P+[(n,k),copy(K)]\n",
    "    return P\n",
    "\n",
    "#Return the Schur decomposition of every \"pair\" of vectors of the n^th chains for a=4 and b\n",
    "#It's pairs if the vector is not symmetric in order to create a symmetric polynomial.\n",
    "def CoefVector(b,n):\n",
    "    L=chainsAux(b,n)\n",
    "    P=[]\n",
    "    for i in range(len(L)):\n",
    "        if len(L[i])%2==0:\n",
    "            k=len(L[i])//2\n",
    "            p=true\n",
    "        else:\n",
    "            k=len(L[i])//2\n",
    "            p=false\n",
    "        if p==true:\n",
    "            for j in range(k):\n",
    "                P=P+[(L[i][j]),InSchur(monomials(L[i],b,j)+monomials(L[i],b,len(L[i])-j-1))]\n",
    "        else:\n",
    "            for j in range(k):\n",
    "                P=P+[(L[i][j]),InSchur(monomials(L[i],b,j)+monomials(L[i],b,len(L[i])-j-1))]\n",
    "            P=P+[(L[i][k]),InSchur(monomials(L[i],b,k))]\n",
    "    return P"
   ]
  },
  {
   "cell_type": "code",
   "execution_count": 78,
   "id": "21f34949",
   "metadata": {},
   "outputs": [
    {
     "data": {
      "text/html": [
       "<html>\\(\\displaystyle \\left[\\left[3\\right], s_{8}, \\left[2, 1, 0\\right], s_{6,2} - s_{5,3}, \\left[1, 2, 0\\right], s_{5,3} - s_{4,4}, \\left[1, 1, 1\\right], s_{4,4}\\right]\\)</html>"
      ],
      "text/latex": [
       "$\\displaystyle \\left[\\left[3\\right], s_{8}, \\left[2, 1, 0\\right], s_{6,2} - s_{5,3}, \\left[1, 2, 0\\right], s_{5,3} - s_{4,4}, \\left[1, 1, 1\\right], s_{4,4}\\right]$"
      ],
      "text/plain": [
       "[[3],\n",
       " s[8],\n",
       " [2, 1, 0],\n",
       " s[6, 2] - s[5, 3],\n",
       " [1, 2, 0],\n",
       " s[5, 3] - s[4, 4],\n",
       " [1, 1, 1],\n",
       " s[4, 4]]"
      ]
     },
     "execution_count": 78,
     "metadata": {},
     "output_type": "execute_result"
    }
   ],
   "source": [
    "CoefVector(2,0)"
   ]
  },
  {
   "cell_type": "code",
   "execution_count": 75,
   "id": "3a7aa2b6",
   "metadata": {},
   "outputs": [
    {
     "data": {
      "text/html": [
       "<html>\\(\\displaystyle \\left[\\left[0, 3, 0\\right], s_{8,4}\\right]\\)</html>"
      ],
      "text/latex": [
       "$\\displaystyle \\left[\\left[0, 3, 0\\right], s_{8,4}\\right]$"
      ],
      "text/plain": [
       "[[0, 3, 0], s[8, 4]]"
      ]
     },
     "execution_count": 75,
     "metadata": {},
     "output_type": "execute_result"
    }
   ],
   "source": [
    "CoefVector(2,1)"
   ]
  },
  {
   "cell_type": "code",
   "execution_count": 76,
   "id": "60d97f54",
   "metadata": {},
   "outputs": [
    {
     "data": {
      "text/html": [
       "<html>\\(\\displaystyle \\left[\\left[3\\right], s_{12}, \\left[2, 1, 0\\right], s_{10,2} - s_{7,5}, \\left[1, 2, 0\\right], s_{9,3} + s_{6,6}, \\left[1, 1, 1\\right], s_{7,5}\\right]\\)</html>"
      ],
      "text/latex": [
       "$\\displaystyle \\left[\\left[3\\right], s_{12}, \\left[2, 1, 0\\right], s_{10,2} - s_{7,5}, \\left[1, 2, 0\\right], s_{9,3} + s_{6,6}, \\left[1, 1, 1\\right], s_{7,5}\\right]$"
      ],
      "text/plain": [
       "[[3],\n",
       " s[12],\n",
       " [2, 1, 0],\n",
       " s[10, 2] - s[7, 5],\n",
       " [1, 2, 0],\n",
       " s[9, 3] + s[6, 6],\n",
       " [1, 1, 1],\n",
       " s[7, 5]]"
      ]
     },
     "execution_count": 76,
     "metadata": {},
     "output_type": "execute_result"
    }
   ],
   "source": [
    "CoefVector(3,0)"
   ]
  },
  {
   "cell_type": "code",
   "execution_count": 77,
   "id": "eccc44da",
   "metadata": {},
   "outputs": [
    {
     "data": {
      "text/html": [
       "<html>\\(\\displaystyle \\left[\\left[0, 3, 0\\right], s_{8,4}\\right]\\)</html>"
      ],
      "text/latex": [
       "$\\displaystyle \\left[\\left[0, 3, 0\\right], s_{8,4}\\right]$"
      ],
      "text/plain": [
       "[[0, 3, 0], s[8, 4]]"
      ]
     },
     "execution_count": 77,
     "metadata": {},
     "output_type": "execute_result"
    }
   ],
   "source": [
    "CoefVector(3,1)"
   ]
  },
  {
   "cell_type": "code",
   "execution_count": 79,
   "id": "e7d557c8",
   "metadata": {},
   "outputs": [
    {
     "data": {
      "text/html": [
       "<html>\\(\\displaystyle \\left[\\left[3\\right], s_{16}, \\left[2, 1, 0\\right], s_{14,2} - s_{9,7}, \\left[1, 2, 0\\right], s_{13,3} + s_{9,7}, \\left[1, 1, 1\\right], s_{10,6}, \\left[2, 0, 1, 0, 0\\right], s_{12,4} - s_{11,5}, \\left[1, 1, 1, 0, 0\\right], s_{11,5} - s_{10,6}, \\left[1, 0, 2, 0, 0\\right], s_{10,6} - s_{9,7}, \\left[1, 0, 1, 1, 0\\right], s_{9,7} - s_{8,8}, \\left[1, 0, 1, 0, 1\\right], s_{8,8}\\right]\\)</html>"
      ],
      "text/latex": [
       "$\\displaystyle \\left[\\left[3\\right], s_{16}, \\left[2, 1, 0\\right], s_{14,2} - s_{9,7}, \\left[1, 2, 0\\right], s_{13,3} + s_{9,7}, \\left[1, 1, 1\\right], s_{10,6}, \\left[2, 0, 1, 0, 0\\right], s_{12,4} - s_{11,5}, \\left[1, 1, 1, 0, 0\\right], s_{11,5} - s_{10,6}, \\left[1, 0, 2, 0, 0\\right], s_{10,6} - s_{9,7}, \\left[1, 0, 1, 1, 0\\right], s_{9,7} - s_{8,8}, \\left[1, 0, 1, 0, 1\\right], s_{8,8}\\right]$"
      ],
      "text/plain": [
       "[[3],\n",
       " s[16],\n",
       " [2, 1, 0],\n",
       " s[14, 2] - s[9, 7],\n",
       " [1, 2, 0],\n",
       " s[13, 3] + s[9, 7],\n",
       " [1, 1, 1],\n",
       " s[10, 6],\n",
       " [2, 0, 1, 0, 0],\n",
       " s[12, 4] - s[11, 5],\n",
       " [1, 1, 1, 0, 0],\n",
       " s[11, 5] - s[10, 6],\n",
       " [1, 0, 2, 0, 0],\n",
       " s[10, 6] - s[9, 7],\n",
       " [1, 0, 1, 1, 0],\n",
       " s[9, 7] - s[8, 8],\n",
       " [1, 0, 1, 0, 1],\n",
       " s[8, 8]]"
      ]
     },
     "execution_count": 79,
     "metadata": {},
     "output_type": "execute_result"
    }
   ],
   "source": [
    "CoefVector(4,0)"
   ]
  },
  {
   "cell_type": "code",
   "execution_count": 80,
   "id": "80f7ede2",
   "metadata": {},
   "outputs": [
    {
     "data": {
      "text/html": [
       "<html>\\(\\displaystyle \\left[\\left[0, 3, 0\\right], s_{12,4}, \\left[0, 2, 1, 0, 0\\right], s_{10,6} - s_{9,7}, \\left[0, 1, 2, 0, 0\\right], s_{9,7} - s_{8,8}, \\left[0, 1, 1, 1, 0\\right], s_{8,8}\\right]\\)</html>"
      ],
      "text/latex": [
       "$\\displaystyle \\left[\\left[0, 3, 0\\right], s_{12,4}, \\left[0, 2, 1, 0, 0\\right], s_{10,6} - s_{9,7}, \\left[0, 1, 2, 0, 0\\right], s_{9,7} - s_{8,8}, \\left[0, 1, 1, 1, 0\\right], s_{8,8}\\right]$"
      ],
      "text/plain": [
       "[[0, 3, 0],\n",
       " s[12, 4],\n",
       " [0, 2, 1, 0, 0],\n",
       " s[10, 6] - s[9, 7],\n",
       " [0, 1, 2, 0, 0],\n",
       " s[9, 7] - s[8, 8],\n",
       " [0, 1, 1, 1, 0],\n",
       " s[8, 8]]"
      ]
     },
     "execution_count": 80,
     "metadata": {},
     "output_type": "execute_result"
    }
   ],
   "source": [
    "CoefVector(4,1)"
   ]
  },
  {
   "cell_type": "code",
   "execution_count": 82,
   "id": "9baef4af",
   "metadata": {},
   "outputs": [
    {
     "data": {
      "text/html": [
       "<html>\\(\\displaystyle \\left[\\left[0, 0, 3, 0, 0\\right], s_{8,8}\\right]\\)</html>"
      ],
      "text/latex": [
       "$\\displaystyle \\left[\\left[0, 0, 3, 0, 0\\right], s_{8,8}\\right]$"
      ],
      "text/plain": [
       "[[0, 0, 3, 0, 0], s[8, 8]]"
      ]
     },
     "execution_count": 82,
     "metadata": {},
     "output_type": "execute_result"
    }
   ],
   "source": [
    "CoefVector(4,2)"
   ]
  },
  {
   "cell_type": "code",
   "execution_count": 83,
   "id": "518ec2b2",
   "metadata": {},
   "outputs": [
    {
     "data": {
      "text/html": [
       "<html>\\(\\displaystyle \\left[\\left[3\\right], s_{20}, \\left[2, 1, 0\\right], s_{18,2} - s_{11,9}, \\left[1, 2, 0\\right], s_{17,3} + s_{12,8}, \\left[1, 1, 1\\right], s_{13,7}, \\left[2, 0, 1, 0, 0\\right], s_{16,4} - s_{13,7}, \\left[1, 1, 1, 0, 0\\right], s_{15,5} - s_{12,8}, \\left[1, 0, 2, 0, 0\\right], s_{14,6} - s_{10,10}, \\left[1, 0, 1, 1, 0\\right], s_{12,8} + s_{10,10}, \\left[1, 0, 1, 0, 1\\right], s_{11,9}\\right]\\)</html>"
      ],
      "text/latex": [
       "$\\displaystyle \\left[\\left[3\\right], s_{20}, \\left[2, 1, 0\\right], s_{18,2} - s_{11,9}, \\left[1, 2, 0\\right], s_{17,3} + s_{12,8}, \\left[1, 1, 1\\right], s_{13,7}, \\left[2, 0, 1, 0, 0\\right], s_{16,4} - s_{13,7}, \\left[1, 1, 1, 0, 0\\right], s_{15,5} - s_{12,8}, \\left[1, 0, 2, 0, 0\\right], s_{14,6} - s_{10,10}, \\left[1, 0, 1, 1, 0\\right], s_{12,8} + s_{10,10}, \\left[1, 0, 1, 0, 1\\right], s_{11,9}\\right]$"
      ],
      "text/plain": [
       "[[3],\n",
       " s[20],\n",
       " [2, 1, 0],\n",
       " s[18, 2] - s[11, 9],\n",
       " [1, 2, 0],\n",
       " s[17, 3] + s[12, 8],\n",
       " [1, 1, 1],\n",
       " s[13, 7],\n",
       " [2, 0, 1, 0, 0],\n",
       " s[16, 4] - s[13, 7],\n",
       " [1, 1, 1, 0, 0],\n",
       " s[15, 5] - s[12, 8],\n",
       " [1, 0, 2, 0, 0],\n",
       " s[14, 6] - s[10, 10],\n",
       " [1, 0, 1, 1, 0],\n",
       " s[12, 8] + s[10, 10],\n",
       " [1, 0, 1, 0, 1],\n",
       " s[11, 9]]"
      ]
     },
     "execution_count": 83,
     "metadata": {},
     "output_type": "execute_result"
    }
   ],
   "source": [
    "CoefVector(5,0)"
   ]
  },
  {
   "cell_type": "code",
   "execution_count": 84,
   "id": "01701b22",
   "metadata": {},
   "outputs": [
    {
     "data": {
      "text/html": [
       "<html>\\(\\displaystyle \\left[\\left[0, 3, 0\\right], s_{16,4}, \\left[0, 2, 1, 0, 0\\right], s_{14,6} - s_{11,9}, \\left[0, 1, 2, 0, 0\\right], s_{13,7} + s_{10,10}, \\left[0, 1, 1, 1, 0\\right], s_{11,9}\\right]\\)</html>"
      ],
      "text/latex": [
       "$\\displaystyle \\left[\\left[0, 3, 0\\right], s_{16,4}, \\left[0, 2, 1, 0, 0\\right], s_{14,6} - s_{11,9}, \\left[0, 1, 2, 0, 0\\right], s_{13,7} + s_{10,10}, \\left[0, 1, 1, 1, 0\\right], s_{11,9}\\right]$"
      ],
      "text/plain": [
       "[[0, 3, 0],\n",
       " s[16, 4],\n",
       " [0, 2, 1, 0, 0],\n",
       " s[14, 6] - s[11, 9],\n",
       " [0, 1, 2, 0, 0],\n",
       " s[13, 7] + s[10, 10],\n",
       " [0, 1, 1, 1, 0],\n",
       " s[11, 9]]"
      ]
     },
     "execution_count": 84,
     "metadata": {},
     "output_type": "execute_result"
    }
   ],
   "source": [
    "CoefVector(5,1)"
   ]
  },
  {
   "cell_type": "code",
   "execution_count": 85,
   "id": "a5864999",
   "metadata": {},
   "outputs": [
    {
     "data": {
      "text/html": [
       "<html>\\(\\displaystyle \\left[\\left[0, 0, 3, 0, 0\\right], s_{12,8}\\right]\\)</html>"
      ],
      "text/latex": [
       "$\\displaystyle \\left[\\left[0, 0, 3, 0, 0\\right], s_{12,8}\\right]$"
      ],
      "text/plain": [
       "[[0, 0, 3, 0, 0], s[12, 8]]"
      ]
     },
     "execution_count": 85,
     "metadata": {},
     "output_type": "execute_result"
    }
   ],
   "source": [
    "CoefVector(5,2)"
   ]
  },
  {
   "cell_type": "code",
   "execution_count": 86,
   "id": "fa1dbd00",
   "metadata": {},
   "outputs": [
    {
     "data": {
      "text/html": [
       "<html>\\(\\displaystyle \\left[\\left[3\\right], s_{24}, \\left[2, 1, 0\\right], s_{22,2} - s_{13,11}, \\left[1, 2, 0\\right], s_{21,3} + s_{15,9}, \\left[1, 1, 1\\right], s_{16,8}, \\left[2, 0, 1, 0, 0\\right], s_{20,4} - s_{15,9}, \\left[1, 1, 1, 0, 0\\right], s_{19,5} - s_{14,10}, \\left[1, 0, 2, 0, 0\\right], s_{18,6} + s_{12,12}, \\left[1, 0, 1, 1, 0\\right], s_{15,9} + s_{13,11}, \\left[1, 0, 1, 0, 1\\right], s_{14,10}, \\left[2, 0, 0, 1, 0, 0, 0\\right], s_{18,6} - s_{17,7}, \\left[1, 1, 0, 1, 0, 0, 0\\right], s_{17,7} - s_{16,8}, \\left[1, 0, 1, 1, 0, 0, 0\\right], s_{16,8} - s_{15,9}, \\left[1, 0, 0, 2, 0, 0, 0\\right], s_{15,9} - s_{14,10}, \\left[1, 0, 0, 1, 1, 0, 0\\right], s_{14,10} - s_{13,11}, \\left[1, 0, 0, 1, 0, 1, 0\\right], s_{13,11} - s_{12,12}, \\left[1, 0, 0, 1, 0, 0, 1\\right], s_{12,12}\\right]\\)</html>"
      ],
      "text/latex": [
       "$\\displaystyle \\left[\\left[3\\right], s_{24}, \\left[2, 1, 0\\right], s_{22,2} - s_{13,11}, \\left[1, 2, 0\\right], s_{21,3} + s_{15,9}, \\left[1, 1, 1\\right], s_{16,8}, \\left[2, 0, 1, 0, 0\\right], s_{20,4} - s_{15,9}, \\left[1, 1, 1, 0, 0\\right], s_{19,5} - s_{14,10}, \\left[1, 0, 2, 0, 0\\right], s_{18,6} + s_{12,12}, \\left[1, 0, 1, 1, 0\\right], s_{15,9} + s_{13,11}, \\left[1, 0, 1, 0, 1\\right], s_{14,10}, \\left[2, 0, 0, 1, 0, 0, 0\\right], s_{18,6} - s_{17,7}, \\left[1, 1, 0, 1, 0, 0, 0\\right], s_{17,7} - s_{16,8}, \\left[1, 0, 1, 1, 0, 0, 0\\right], s_{16,8} - s_{15,9}, \\left[1, 0, 0, 2, 0, 0, 0\\right], s_{15,9} - s_{14,10}, \\left[1, 0, 0, 1, 1, 0, 0\\right], s_{14,10} - s_{13,11}, \\left[1, 0, 0, 1, 0, 1, 0\\right], s_{13,11} - s_{12,12}, \\left[1, 0, 0, 1, 0, 0, 1\\right], s_{12,12}\\right]$"
      ],
      "text/plain": [
       "[[3],\n",
       " s[24],\n",
       " [2, 1, 0],\n",
       " s[22, 2] - s[13, 11],\n",
       " [1, 2, 0],\n",
       " s[21, 3] + s[15, 9],\n",
       " [1, 1, 1],\n",
       " s[16, 8],\n",
       " [2, 0, 1, 0, 0],\n",
       " s[20, 4] - s[15, 9],\n",
       " [1, 1, 1, 0, 0],\n",
       " s[19, 5] - s[14, 10],\n",
       " [1, 0, 2, 0, 0],\n",
       " s[18, 6] + s[12, 12],\n",
       " [1, 0, 1, 1, 0],\n",
       " s[15, 9] + s[13, 11],\n",
       " [1, 0, 1, 0, 1],\n",
       " s[14, 10],\n",
       " [2, 0, 0, 1, 0, 0, 0],\n",
       " s[18, 6] - s[17, 7],\n",
       " [1, 1, 0, 1, 0, 0, 0],\n",
       " s[17, 7] - s[16, 8],\n",
       " [1, 0, 1, 1, 0, 0, 0],\n",
       " s[16, 8] - s[15, 9],\n",
       " [1, 0, 0, 2, 0, 0, 0],\n",
       " s[15, 9] - s[14, 10],\n",
       " [1, 0, 0, 1, 1, 0, 0],\n",
       " s[14, 10] - s[13, 11],\n",
       " [1, 0, 0, 1, 0, 1, 0],\n",
       " s[13, 11] - s[12, 12],\n",
       " [1, 0, 0, 1, 0, 0, 1],\n",
       " s[12, 12]]"
      ]
     },
     "execution_count": 86,
     "metadata": {},
     "output_type": "execute_result"
    }
   ],
   "source": [
    "CoefVector(6,0)"
   ]
  },
  {
   "cell_type": "code",
   "execution_count": 87,
   "id": "ee0bfce5",
   "metadata": {},
   "outputs": [
    {
     "data": {
      "text/html": [
       "<html>\\(\\displaystyle \\left[\\left[0, 3, 0\\right], s_{20,4}, \\left[0, 2, 1, 0, 0\\right], s_{18,6} - s_{13,11}, \\left[0, 1, 2, 0, 0\\right], s_{17,7} + s_{13,11}, \\left[0, 1, 1, 1, 0\\right], s_{14,10}, \\left[0, 2, 0, 1, 0, 0, 0\\right], s_{16,8} - s_{15,9}, \\left[0, 1, 1, 1, 0, 0, 0\\right], s_{15,9} - s_{14,10}, \\left[0, 1, 0, 2, 0, 0, 0\\right], s_{14,10} - s_{13,11}, \\left[0, 1, 0, 1, 1, 0, 0\\right], s_{13,11} - s_{12,12}, \\left[0, 1, 0, 1, 0, 1, 0\\right], s_{12,12}\\right]\\)</html>"
      ],
      "text/latex": [
       "$\\displaystyle \\left[\\left[0, 3, 0\\right], s_{20,4}, \\left[0, 2, 1, 0, 0\\right], s_{18,6} - s_{13,11}, \\left[0, 1, 2, 0, 0\\right], s_{17,7} + s_{13,11}, \\left[0, 1, 1, 1, 0\\right], s_{14,10}, \\left[0, 2, 0, 1, 0, 0, 0\\right], s_{16,8} - s_{15,9}, \\left[0, 1, 1, 1, 0, 0, 0\\right], s_{15,9} - s_{14,10}, \\left[0, 1, 0, 2, 0, 0, 0\\right], s_{14,10} - s_{13,11}, \\left[0, 1, 0, 1, 1, 0, 0\\right], s_{13,11} - s_{12,12}, \\left[0, 1, 0, 1, 0, 1, 0\\right], s_{12,12}\\right]$"
      ],
      "text/plain": [
       "[[0, 3, 0],\n",
       " s[20, 4],\n",
       " [0, 2, 1, 0, 0],\n",
       " s[18, 6] - s[13, 11],\n",
       " [0, 1, 2, 0, 0],\n",
       " s[17, 7] + s[13, 11],\n",
       " [0, 1, 1, 1, 0],\n",
       " s[14, 10],\n",
       " [0, 2, 0, 1, 0, 0, 0],\n",
       " s[16, 8] - s[15, 9],\n",
       " [0, 1, 1, 1, 0, 0, 0],\n",
       " s[15, 9] - s[14, 10],\n",
       " [0, 1, 0, 2, 0, 0, 0],\n",
       " s[14, 10] - s[13, 11],\n",
       " [0, 1, 0, 1, 1, 0, 0],\n",
       " s[13, 11] - s[12, 12],\n",
       " [0, 1, 0, 1, 0, 1, 0],\n",
       " s[12, 12]]"
      ]
     },
     "execution_count": 87,
     "metadata": {},
     "output_type": "execute_result"
    }
   ],
   "source": [
    "CoefVector(6,1)"
   ]
  },
  {
   "cell_type": "code",
   "execution_count": 88,
   "id": "ca3f5f58",
   "metadata": {},
   "outputs": [
    {
     "data": {
      "text/html": [
       "<html>\\(\\displaystyle \\left[\\left[0, 0, 3, 0, 0\\right], s_{16,8}, \\left[0, 0, 2, 1, 0, 0, 0\\right], s_{14,10} - s_{13,11}, \\left[0, 0, 1, 2, 0, 0, 0\\right], s_{13,11} - s_{12,12}, \\left[0, 0, 1, 1, 1, 0, 0\\right], s_{12,12}\\right]\\)</html>"
      ],
      "text/latex": [
       "$\\displaystyle \\left[\\left[0, 0, 3, 0, 0\\right], s_{16,8}, \\left[0, 0, 2, 1, 0, 0, 0\\right], s_{14,10} - s_{13,11}, \\left[0, 0, 1, 2, 0, 0, 0\\right], s_{13,11} - s_{12,12}, \\left[0, 0, 1, 1, 1, 0, 0\\right], s_{12,12}\\right]$"
      ],
      "text/plain": [
       "[[0, 0, 3, 0, 0],\n",
       " s[16, 8],\n",
       " [0, 0, 2, 1, 0, 0, 0],\n",
       " s[14, 10] - s[13, 11],\n",
       " [0, 0, 1, 2, 0, 0, 0],\n",
       " s[13, 11] - s[12, 12],\n",
       " [0, 0, 1, 1, 1, 0, 0],\n",
       " s[12, 12]]"
      ]
     },
     "execution_count": 88,
     "metadata": {},
     "output_type": "execute_result"
    }
   ],
   "source": [
    "CoefVector(6,2)"
   ]
  },
  {
   "cell_type": "code",
   "execution_count": 90,
   "id": "a8f25702",
   "metadata": {},
   "outputs": [
    {
     "data": {
      "text/html": [
       "<html>\\(\\displaystyle \\left[\\left[0, 0, 0, 3, 0, 0, 0\\right], s_{12,12}\\right]\\)</html>"
      ],
      "text/latex": [
       "$\\displaystyle \\left[\\left[0, 0, 0, 3, 0, 0, 0\\right], s_{12,12}\\right]$"
      ],
      "text/plain": [
       "[[0, 0, 0, 3, 0, 0, 0], s[12, 12]]"
      ]
     },
     "execution_count": 90,
     "metadata": {},
     "output_type": "execute_result"
    }
   ],
   "source": [
    "CoefVector(6,3)"
   ]
  },
  {
   "cell_type": "code",
   "execution_count": 91,
   "id": "92e2fd5d",
   "metadata": {},
   "outputs": [
    {
     "data": {
      "text/html": [
       "<html>\\(\\displaystyle \\left[\\left[3\\right], s_{28}, \\left[2, 1, 0\\right], s_{26,2} - s_{15,13}, \\left[1, 2, 0\\right], s_{25,3} + s_{18,10}, \\left[1, 1, 1\\right], s_{19,9}, \\left[2, 0, 1, 0, 0\\right], s_{24,4} - s_{17,11}, \\left[1, 1, 1, 0, 0\\right], s_{23,5} - s_{16,12}, \\left[1, 0, 2, 0, 0\\right], s_{22,6} + s_{15,13}, \\left[1, 0, 1, 1, 0\\right], s_{18,10} + s_{16,12}, \\left[1, 0, 1, 0, 1\\right], s_{17,11}, \\left[2, 0, 0, 1, 0, 0, 0\\right], s_{22,6} - s_{19,9}, \\left[1, 1, 0, 1, 0, 0, 0\\right], s_{21,7} - s_{18,10}, \\left[1, 0, 1, 1, 0, 0, 0\\right], s_{20,8} - s_{17,11}, \\left[1, 0, 0, 2, 0, 0, 0\\right], s_{19,9} - s_{15,13}, \\left[1, 0, 0, 1, 1, 0, 0\\right], s_{17,11} - s_{14,14}, \\left[1, 0, 0, 1, 0, 1, 0\\right], s_{16,12} + s_{14,14}, \\left[1, 0, 0, 1, 0, 0, 1\\right], s_{15,13}\\right]\\)</html>"
      ],
      "text/latex": [
       "$\\displaystyle \\left[\\left[3\\right], s_{28}, \\left[2, 1, 0\\right], s_{26,2} - s_{15,13}, \\left[1, 2, 0\\right], s_{25,3} + s_{18,10}, \\left[1, 1, 1\\right], s_{19,9}, \\left[2, 0, 1, 0, 0\\right], s_{24,4} - s_{17,11}, \\left[1, 1, 1, 0, 0\\right], s_{23,5} - s_{16,12}, \\left[1, 0, 2, 0, 0\\right], s_{22,6} + s_{15,13}, \\left[1, 0, 1, 1, 0\\right], s_{18,10} + s_{16,12}, \\left[1, 0, 1, 0, 1\\right], s_{17,11}, \\left[2, 0, 0, 1, 0, 0, 0\\right], s_{22,6} - s_{19,9}, \\left[1, 1, 0, 1, 0, 0, 0\\right], s_{21,7} - s_{18,10}, \\left[1, 0, 1, 1, 0, 0, 0\\right], s_{20,8} - s_{17,11}, \\left[1, 0, 0, 2, 0, 0, 0\\right], s_{19,9} - s_{15,13}, \\left[1, 0, 0, 1, 1, 0, 0\\right], s_{17,11} - s_{14,14}, \\left[1, 0, 0, 1, 0, 1, 0\\right], s_{16,12} + s_{14,14}, \\left[1, 0, 0, 1, 0, 0, 1\\right], s_{15,13}\\right]$"
      ],
      "text/plain": [
       "[[3],\n",
       " s[28],\n",
       " [2, 1, 0],\n",
       " s[26, 2] - s[15, 13],\n",
       " [1, 2, 0],\n",
       " s[25, 3] + s[18, 10],\n",
       " [1, 1, 1],\n",
       " s[19, 9],\n",
       " [2, 0, 1, 0, 0],\n",
       " s[24, 4] - s[17, 11],\n",
       " [1, 1, 1, 0, 0],\n",
       " s[23, 5] - s[16, 12],\n",
       " [1, 0, 2, 0, 0],\n",
       " s[22, 6] + s[15, 13],\n",
       " [1, 0, 1, 1, 0],\n",
       " s[18, 10] + s[16, 12],\n",
       " [1, 0, 1, 0, 1],\n",
       " s[17, 11],\n",
       " [2, 0, 0, 1, 0, 0, 0],\n",
       " s[22, 6] - s[19, 9],\n",
       " [1, 1, 0, 1, 0, 0, 0],\n",
       " s[21, 7] - s[18, 10],\n",
       " [1, 0, 1, 1, 0, 0, 0],\n",
       " s[20, 8] - s[17, 11],\n",
       " [1, 0, 0, 2, 0, 0, 0],\n",
       " s[19, 9] - s[15, 13],\n",
       " [1, 0, 0, 1, 1, 0, 0],\n",
       " s[17, 11] - s[14, 14],\n",
       " [1, 0, 0, 1, 0, 1, 0],\n",
       " s[16, 12] + s[14, 14],\n",
       " [1, 0, 0, 1, 0, 0, 1],\n",
       " s[15, 13]]"
      ]
     },
     "execution_count": 91,
     "metadata": {},
     "output_type": "execute_result"
    }
   ],
   "source": [
    "CoefVector(7,0)"
   ]
  },
  {
   "cell_type": "code",
   "execution_count": 92,
   "id": "4f40e553",
   "metadata": {},
   "outputs": [
    {
     "data": {
      "text/html": [
       "<html>\\(\\displaystyle \\left[\\left[0, 3, 0\\right], s_{24,4}, \\left[0, 2, 1, 0, 0\\right], s_{22,6} - s_{15,13}, \\left[0, 1, 2, 0, 0\\right], s_{21,7} + s_{16,12}, \\left[0, 1, 1, 1, 0\\right], s_{17,11}, \\left[0, 2, 0, 1, 0, 0, 0\\right], s_{20,8} - s_{17,11}, \\left[0, 1, 1, 1, 0, 0, 0\\right], s_{19,9} - s_{16,12}, \\left[0, 1, 0, 2, 0, 0, 0\\right], s_{18,10} - s_{14,14}, \\left[0, 1, 0, 1, 1, 0, 0\\right], s_{16,12} + s_{14,14}, \\left[0, 1, 0, 1, 0, 1, 0\\right], s_{15,13}\\right]\\)</html>"
      ],
      "text/latex": [
       "$\\displaystyle \\left[\\left[0, 3, 0\\right], s_{24,4}, \\left[0, 2, 1, 0, 0\\right], s_{22,6} - s_{15,13}, \\left[0, 1, 2, 0, 0\\right], s_{21,7} + s_{16,12}, \\left[0, 1, 1, 1, 0\\right], s_{17,11}, \\left[0, 2, 0, 1, 0, 0, 0\\right], s_{20,8} - s_{17,11}, \\left[0, 1, 1, 1, 0, 0, 0\\right], s_{19,9} - s_{16,12}, \\left[0, 1, 0, 2, 0, 0, 0\\right], s_{18,10} - s_{14,14}, \\left[0, 1, 0, 1, 1, 0, 0\\right], s_{16,12} + s_{14,14}, \\left[0, 1, 0, 1, 0, 1, 0\\right], s_{15,13}\\right]$"
      ],
      "text/plain": [
       "[[0, 3, 0],\n",
       " s[24, 4],\n",
       " [0, 2, 1, 0, 0],\n",
       " s[22, 6] - s[15, 13],\n",
       " [0, 1, 2, 0, 0],\n",
       " s[21, 7] + s[16, 12],\n",
       " [0, 1, 1, 1, 0],\n",
       " s[17, 11],\n",
       " [0, 2, 0, 1, 0, 0, 0],\n",
       " s[20, 8] - s[17, 11],\n",
       " [0, 1, 1, 1, 0, 0, 0],\n",
       " s[19, 9] - s[16, 12],\n",
       " [0, 1, 0, 2, 0, 0, 0],\n",
       " s[18, 10] - s[14, 14],\n",
       " [0, 1, 0, 1, 1, 0, 0],\n",
       " s[16, 12] + s[14, 14],\n",
       " [0, 1, 0, 1, 0, 1, 0],\n",
       " s[15, 13]]"
      ]
     },
     "execution_count": 92,
     "metadata": {},
     "output_type": "execute_result"
    }
   ],
   "source": [
    "CoefVector(7,1)"
   ]
  },
  {
   "cell_type": "code",
   "execution_count": 93,
   "id": "c1b08f83",
   "metadata": {},
   "outputs": [
    {
     "data": {
      "text/html": [
       "<html>\\(\\displaystyle \\left[\\left[0, 0, 3, 0, 0\\right], s_{20,8}, \\left[0, 0, 2, 1, 0, 0, 0\\right], s_{18,10} - s_{15,13}, \\left[0, 0, 1, 2, 0, 0, 0\\right], s_{17,11} + s_{14,14}, \\left[0, 0, 1, 1, 1, 0, 0\\right], s_{15,13}\\right]\\)</html>"
      ],
      "text/latex": [
       "$\\displaystyle \\left[\\left[0, 0, 3, 0, 0\\right], s_{20,8}, \\left[0, 0, 2, 1, 0, 0, 0\\right], s_{18,10} - s_{15,13}, \\left[0, 0, 1, 2, 0, 0, 0\\right], s_{17,11} + s_{14,14}, \\left[0, 0, 1, 1, 1, 0, 0\\right], s_{15,13}\\right]$"
      ],
      "text/plain": [
       "[[0, 0, 3, 0, 0],\n",
       " s[20, 8],\n",
       " [0, 0, 2, 1, 0, 0, 0],\n",
       " s[18, 10] - s[15, 13],\n",
       " [0, 0, 1, 2, 0, 0, 0],\n",
       " s[17, 11] + s[14, 14],\n",
       " [0, 0, 1, 1, 1, 0, 0],\n",
       " s[15, 13]]"
      ]
     },
     "execution_count": 93,
     "metadata": {},
     "output_type": "execute_result"
    }
   ],
   "source": [
    "CoefVector(7,2)"
   ]
  },
  {
   "cell_type": "code",
   "execution_count": 94,
   "id": "0df7b5a6",
   "metadata": {},
   "outputs": [
    {
     "data": {
      "text/html": [
       "<html>\\(\\displaystyle \\left[\\left[0, 0, 0, 3, 0, 0, 0\\right], s_{16,12}\\right]\\)</html>"
      ],
      "text/latex": [
       "$\\displaystyle \\left[\\left[0, 0, 0, 3, 0, 0, 0\\right], s_{16,12}\\right]$"
      ],
      "text/plain": [
       "[[0, 0, 0, 3, 0, 0, 0], s[16, 12]]"
      ]
     },
     "execution_count": 94,
     "metadata": {},
     "output_type": "execute_result"
    }
   ],
   "source": [
    "CoefVector(7,3)"
   ]
  },
  {
   "cell_type": "code",
   "execution_count": 95,
   "id": "144bc158",
   "metadata": {},
   "outputs": [
    {
     "data": {
      "text/html": [
       "<html>\\(\\displaystyle \\left[\\left[3\\right], s_{32}, \\left[2, 1, 0\\right], s_{30,2} - s_{17,15}, \\left[1, 2, 0\\right], s_{29,3} + s_{21,11}, \\left[1, 1, 1\\right], s_{22,10}, \\left[2, 0, 1, 0, 0\\right], s_{28,4} - s_{19,13}, \\left[1, 1, 1, 0, 0\\right], s_{27,5} - s_{18,14}, \\left[1, 0, 2, 0, 0\\right], s_{26,6} + s_{18,14}, \\left[1, 0, 1, 1, 0\\right], s_{21,11} + s_{19,13}, \\left[1, 0, 1, 0, 1\\right], s_{20,12}, \\left[2, 0, 0, 1, 0, 0, 0\\right], s_{26,6} - s_{21,11}, \\left[1, 1, 0, 1, 0, 0, 0\\right], s_{25,7} - s_{20,12}, \\left[1, 0, 1, 1, 0, 0, 0\\right], s_{24,8} - s_{19,13}, \\left[1, 0, 0, 2, 0, 0, 0\\right], s_{23,9} - s_{16,16}, \\left[1, 0, 0, 1, 1, 0, 0\\right], s_{20,12} + s_{16,16}, \\left[1, 0, 0, 1, 0, 1, 0\\right], s_{19,13} + s_{17,15}, \\left[1, 0, 0, 1, 0, 0, 1\\right], s_{18,14}, \\left[2, 0, 0, 0, 1, 0, 0, 0, 0\\right], s_{24,8} - s_{23,9}, \\left[1, 1, 0, 0, 1, 0, 0, 0, 0\\right], s_{23,9} - s_{22,10}, \\left[1, 0, 1, 0, 1, 0, 0, 0, 0\\right], s_{22,10} - s_{21,11}, \\left[1, 0, 0, 1, 1, 0, 0, 0, 0\\right], s_{21,11} - s_{20,12}, \\left[1, 0, 0, 0, 2, 0, 0, 0, 0\\right], s_{20,12} - s_{19,13}, \\left[1, 0, 0, 0, 1, 1, 0, 0, 0\\right], s_{19,13} - s_{18,14}, \\left[1, 0, 0, 0, 1, 0, 1, 0, 0\\right], s_{18,14} - s_{17,15}, \\left[1, 0, 0, 0, 1, 0, 0, 1, 0\\right], s_{17,15} - s_{16,16}, \\left[1, 0, 0, 0, 1, 0, 0, 0, 1\\right], s_{16,16}\\right]\\)</html>"
      ],
      "text/latex": [
       "$\\displaystyle \\left[\\left[3\\right], s_{32}, \\left[2, 1, 0\\right], s_{30,2} - s_{17,15}, \\left[1, 2, 0\\right], s_{29,3} + s_{21,11}, \\left[1, 1, 1\\right], s_{22,10}, \\left[2, 0, 1, 0, 0\\right], s_{28,4} - s_{19,13}, \\left[1, 1, 1, 0, 0\\right], s_{27,5} - s_{18,14}, \\left[1, 0, 2, 0, 0\\right], s_{26,6} + s_{18,14}, \\left[1, 0, 1, 1, 0\\right], s_{21,11} + s_{19,13}, \\left[1, 0, 1, 0, 1\\right], s_{20,12}, \\left[2, 0, 0, 1, 0, 0, 0\\right], s_{26,6} - s_{21,11}, \\left[1, 1, 0, 1, 0, 0, 0\\right], s_{25,7} - s_{20,12}, \\left[1, 0, 1, 1, 0, 0, 0\\right], s_{24,8} - s_{19,13}, \\left[1, 0, 0, 2, 0, 0, 0\\right], s_{23,9} - s_{16,16}, \\left[1, 0, 0, 1, 1, 0, 0\\right], s_{20,12} + s_{16,16}, \\left[1, 0, 0, 1, 0, 1, 0\\right], s_{19,13} + s_{17,15}, \\left[1, 0, 0, 1, 0, 0, 1\\right], s_{18,14}, \\left[2, 0, 0, 0, 1, 0, 0, 0, 0\\right], s_{24,8} - s_{23,9}, \\left[1, 1, 0, 0, 1, 0, 0, 0, 0\\right], s_{23,9} - s_{22,10}, \\left[1, 0, 1, 0, 1, 0, 0, 0, 0\\right], s_{22,10} - s_{21,11}, \\left[1, 0, 0, 1, 1, 0, 0, 0, 0\\right], s_{21,11} - s_{20,12}, \\left[1, 0, 0, 0, 2, 0, 0, 0, 0\\right], s_{20,12} - s_{19,13}, \\left[1, 0, 0, 0, 1, 1, 0, 0, 0\\right], s_{19,13} - s_{18,14}, \\left[1, 0, 0, 0, 1, 0, 1, 0, 0\\right], s_{18,14} - s_{17,15}, \\left[1, 0, 0, 0, 1, 0, 0, 1, 0\\right], s_{17,15} - s_{16,16}, \\left[1, 0, 0, 0, 1, 0, 0, 0, 1\\right], s_{16,16}\\right]$"
      ],
      "text/plain": [
       "[[3],\n",
       " s[32],\n",
       " [2, 1, 0],\n",
       " s[30, 2] - s[17, 15],\n",
       " [1, 2, 0],\n",
       " s[29, 3] + s[21, 11],\n",
       " [1, 1, 1],\n",
       " s[22, 10],\n",
       " [2, 0, 1, 0, 0],\n",
       " s[28, 4] - s[19, 13],\n",
       " [1, 1, 1, 0, 0],\n",
       " s[27, 5] - s[18, 14],\n",
       " [1, 0, 2, 0, 0],\n",
       " s[26, 6] + s[18, 14],\n",
       " [1, 0, 1, 1, 0],\n",
       " s[21, 11] + s[19, 13],\n",
       " [1, 0, 1, 0, 1],\n",
       " s[20, 12],\n",
       " [2, 0, 0, 1, 0, 0, 0],\n",
       " s[26, 6] - s[21, 11],\n",
       " [1, 1, 0, 1, 0, 0, 0],\n",
       " s[25, 7] - s[20, 12],\n",
       " [1, 0, 1, 1, 0, 0, 0],\n",
       " s[24, 8] - s[19, 13],\n",
       " [1, 0, 0, 2, 0, 0, 0],\n",
       " s[23, 9] - s[16, 16],\n",
       " [1, 0, 0, 1, 1, 0, 0],\n",
       " s[20, 12] + s[16, 16],\n",
       " [1, 0, 0, 1, 0, 1, 0],\n",
       " s[19, 13] + s[17, 15],\n",
       " [1, 0, 0, 1, 0, 0, 1],\n",
       " s[18, 14],\n",
       " [2, 0, 0, 0, 1, 0, 0, 0, 0],\n",
       " s[24, 8] - s[23, 9],\n",
       " [1, 1, 0, 0, 1, 0, 0, 0, 0],\n",
       " s[23, 9] - s[22, 10],\n",
       " [1, 0, 1, 0, 1, 0, 0, 0, 0],\n",
       " s[22, 10] - s[21, 11],\n",
       " [1, 0, 0, 1, 1, 0, 0, 0, 0],\n",
       " s[21, 11] - s[20, 12],\n",
       " [1, 0, 0, 0, 2, 0, 0, 0, 0],\n",
       " s[20, 12] - s[19, 13],\n",
       " [1, 0, 0, 0, 1, 1, 0, 0, 0],\n",
       " s[19, 13] - s[18, 14],\n",
       " [1, 0, 0, 0, 1, 0, 1, 0, 0],\n",
       " s[18, 14] - s[17, 15],\n",
       " [1, 0, 0, 0, 1, 0, 0, 1, 0],\n",
       " s[17, 15] - s[16, 16],\n",
       " [1, 0, 0, 0, 1, 0, 0, 0, 1],\n",
       " s[16, 16]]"
      ]
     },
     "execution_count": 95,
     "metadata": {},
     "output_type": "execute_result"
    }
   ],
   "source": [
    "CoefVector(8,0)"
   ]
  },
  {
   "cell_type": "code",
   "execution_count": 96,
   "id": "7995ce84",
   "metadata": {},
   "outputs": [
    {
     "data": {
      "text/html": [
       "<html>\\(\\displaystyle \\left[\\left[0, 3, 0\\right], s_{28,4}, \\left[0, 2, 1, 0, 0\\right], s_{26,6} - s_{17,15}, \\left[0, 1, 2, 0, 0\\right], s_{25,7} + s_{19,13}, \\left[0, 1, 1, 1, 0\\right], s_{20,12}, \\left[0, 2, 0, 1, 0, 0, 0\\right], s_{24,8} - s_{19,13}, \\left[0, 1, 1, 1, 0, 0, 0\\right], s_{23,9} - s_{18,14}, \\left[0, 1, 0, 2, 0, 0, 0\\right], s_{22,10} + s_{16,16}, \\left[0, 1, 0, 1, 1, 0, 0\\right], s_{19,13} + s_{17,15}, \\left[0, 1, 0, 1, 0, 1, 0\\right], s_{18,14}, \\left[0, 2, 0, 0, 1, 0, 0, 0, 0\\right], s_{22,10} - s_{21,11}, \\left[0, 1, 1, 0, 1, 0, 0, 0, 0\\right], s_{21,11} - s_{20,12}, \\left[0, 1, 0, 1, 1, 0, 0, 0, 0\\right], s_{20,12} - s_{19,13}, \\left[0, 1, 0, 0, 2, 0, 0, 0, 0\\right], s_{19,13} - s_{18,14}, \\left[0, 1, 0, 0, 1, 1, 0, 0, 0\\right], s_{18,14} - s_{17,15}, \\left[0, 1, 0, 0, 1, 0, 1, 0, 0\\right], s_{17,15} - s_{16,16}, \\left[0, 1, 0, 0, 1, 0, 0, 1, 0\\right], s_{16,16}\\right]\\)</html>"
      ],
      "text/latex": [
       "$\\displaystyle \\left[\\left[0, 3, 0\\right], s_{28,4}, \\left[0, 2, 1, 0, 0\\right], s_{26,6} - s_{17,15}, \\left[0, 1, 2, 0, 0\\right], s_{25,7} + s_{19,13}, \\left[0, 1, 1, 1, 0\\right], s_{20,12}, \\left[0, 2, 0, 1, 0, 0, 0\\right], s_{24,8} - s_{19,13}, \\left[0, 1, 1, 1, 0, 0, 0\\right], s_{23,9} - s_{18,14}, \\left[0, 1, 0, 2, 0, 0, 0\\right], s_{22,10} + s_{16,16}, \\left[0, 1, 0, 1, 1, 0, 0\\right], s_{19,13} + s_{17,15}, \\left[0, 1, 0, 1, 0, 1, 0\\right], s_{18,14}, \\left[0, 2, 0, 0, 1, 0, 0, 0, 0\\right], s_{22,10} - s_{21,11}, \\left[0, 1, 1, 0, 1, 0, 0, 0, 0\\right], s_{21,11} - s_{20,12}, \\left[0, 1, 0, 1, 1, 0, 0, 0, 0\\right], s_{20,12} - s_{19,13}, \\left[0, 1, 0, 0, 2, 0, 0, 0, 0\\right], s_{19,13} - s_{18,14}, \\left[0, 1, 0, 0, 1, 1, 0, 0, 0\\right], s_{18,14} - s_{17,15}, \\left[0, 1, 0, 0, 1, 0, 1, 0, 0\\right], s_{17,15} - s_{16,16}, \\left[0, 1, 0, 0, 1, 0, 0, 1, 0\\right], s_{16,16}\\right]$"
      ],
      "text/plain": [
       "[[0, 3, 0],\n",
       " s[28, 4],\n",
       " [0, 2, 1, 0, 0],\n",
       " s[26, 6] - s[17, 15],\n",
       " [0, 1, 2, 0, 0],\n",
       " s[25, 7] + s[19, 13],\n",
       " [0, 1, 1, 1, 0],\n",
       " s[20, 12],\n",
       " [0, 2, 0, 1, 0, 0, 0],\n",
       " s[24, 8] - s[19, 13],\n",
       " [0, 1, 1, 1, 0, 0, 0],\n",
       " s[23, 9] - s[18, 14],\n",
       " [0, 1, 0, 2, 0, 0, 0],\n",
       " s[22, 10] + s[16, 16],\n",
       " [0, 1, 0, 1, 1, 0, 0],\n",
       " s[19, 13] + s[17, 15],\n",
       " [0, 1, 0, 1, 0, 1, 0],\n",
       " s[18, 14],\n",
       " [0, 2, 0, 0, 1, 0, 0, 0, 0],\n",
       " s[22, 10] - s[21, 11],\n",
       " [0, 1, 1, 0, 1, 0, 0, 0, 0],\n",
       " s[21, 11] - s[20, 12],\n",
       " [0, 1, 0, 1, 1, 0, 0, 0, 0],\n",
       " s[20, 12] - s[19, 13],\n",
       " [0, 1, 0, 0, 2, 0, 0, 0, 0],\n",
       " s[19, 13] - s[18, 14],\n",
       " [0, 1, 0, 0, 1, 1, 0, 0, 0],\n",
       " s[18, 14] - s[17, 15],\n",
       " [0, 1, 0, 0, 1, 0, 1, 0, 0],\n",
       " s[17, 15] - s[16, 16],\n",
       " [0, 1, 0, 0, 1, 0, 0, 1, 0],\n",
       " s[16, 16]]"
      ]
     },
     "execution_count": 96,
     "metadata": {},
     "output_type": "execute_result"
    }
   ],
   "source": [
    "CoefVector(8,1)"
   ]
  },
  {
   "cell_type": "code",
   "execution_count": 97,
   "id": "4e9d71f2",
   "metadata": {},
   "outputs": [
    {
     "data": {
      "text/html": [
       "<html>\\(\\displaystyle \\left[\\left[0, 0, 3, 0, 0\\right], s_{24,8}, \\left[0, 0, 2, 1, 0, 0, 0\\right], s_{22,10} - s_{17,15}, \\left[0, 0, 1, 2, 0, 0, 0\\right], s_{21,11} + s_{17,15}, \\left[0, 0, 1, 1, 1, 0, 0\\right], s_{18,14}, \\left[0, 0, 2, 0, 1, 0, 0, 0, 0\\right], s_{20,12} - s_{19,13}, \\left[0, 0, 1, 1, 1, 0, 0, 0, 0\\right], s_{19,13} - s_{18,14}, \\left[0, 0, 1, 0, 2, 0, 0, 0, 0\\right], s_{18,14} - s_{17,15}, \\left[0, 0, 1, 0, 1, 1, 0, 0, 0\\right], s_{17,15} - s_{16,16}, \\left[0, 0, 1, 0, 1, 0, 1, 0, 0\\right], s_{16,16}\\right]\\)</html>"
      ],
      "text/latex": [
       "$\\displaystyle \\left[\\left[0, 0, 3, 0, 0\\right], s_{24,8}, \\left[0, 0, 2, 1, 0, 0, 0\\right], s_{22,10} - s_{17,15}, \\left[0, 0, 1, 2, 0, 0, 0\\right], s_{21,11} + s_{17,15}, \\left[0, 0, 1, 1, 1, 0, 0\\right], s_{18,14}, \\left[0, 0, 2, 0, 1, 0, 0, 0, 0\\right], s_{20,12} - s_{19,13}, \\left[0, 0, 1, 1, 1, 0, 0, 0, 0\\right], s_{19,13} - s_{18,14}, \\left[0, 0, 1, 0, 2, 0, 0, 0, 0\\right], s_{18,14} - s_{17,15}, \\left[0, 0, 1, 0, 1, 1, 0, 0, 0\\right], s_{17,15} - s_{16,16}, \\left[0, 0, 1, 0, 1, 0, 1, 0, 0\\right], s_{16,16}\\right]$"
      ],
      "text/plain": [
       "[[0, 0, 3, 0, 0],\n",
       " s[24, 8],\n",
       " [0, 0, 2, 1, 0, 0, 0],\n",
       " s[22, 10] - s[17, 15],\n",
       " [0, 0, 1, 2, 0, 0, 0],\n",
       " s[21, 11] + s[17, 15],\n",
       " [0, 0, 1, 1, 1, 0, 0],\n",
       " s[18, 14],\n",
       " [0, 0, 2, 0, 1, 0, 0, 0, 0],\n",
       " s[20, 12] - s[19, 13],\n",
       " [0, 0, 1, 1, 1, 0, 0, 0, 0],\n",
       " s[19, 13] - s[18, 14],\n",
       " [0, 0, 1, 0, 2, 0, 0, 0, 0],\n",
       " s[18, 14] - s[17, 15],\n",
       " [0, 0, 1, 0, 1, 1, 0, 0, 0],\n",
       " s[17, 15] - s[16, 16],\n",
       " [0, 0, 1, 0, 1, 0, 1, 0, 0],\n",
       " s[16, 16]]"
      ]
     },
     "execution_count": 97,
     "metadata": {},
     "output_type": "execute_result"
    }
   ],
   "source": [
    "CoefVector(8,2)"
   ]
  },
  {
   "cell_type": "code",
   "execution_count": 98,
   "id": "d2224036",
   "metadata": {},
   "outputs": [
    {
     "data": {
      "text/html": [
       "<html>\\(\\displaystyle \\left[\\left[0, 0, 0, 3, 0, 0, 0\\right], s_{20,12}, \\left[0, 0, 0, 2, 1, 0, 0, 0, 0\\right], s_{18,14} - s_{17,15}, \\left[0, 0, 0, 1, 2, 0, 0, 0, 0\\right], s_{17,15} - s_{16,16}, \\left[0, 0, 0, 1, 1, 1, 0, 0, 0\\right], s_{16,16}\\right]\\)</html>"
      ],
      "text/latex": [
       "$\\displaystyle \\left[\\left[0, 0, 0, 3, 0, 0, 0\\right], s_{20,12}, \\left[0, 0, 0, 2, 1, 0, 0, 0, 0\\right], s_{18,14} - s_{17,15}, \\left[0, 0, 0, 1, 2, 0, 0, 0, 0\\right], s_{17,15} - s_{16,16}, \\left[0, 0, 0, 1, 1, 1, 0, 0, 0\\right], s_{16,16}\\right]$"
      ],
      "text/plain": [
       "[[0, 0, 0, 3, 0, 0, 0],\n",
       " s[20, 12],\n",
       " [0, 0, 0, 2, 1, 0, 0, 0, 0],\n",
       " s[18, 14] - s[17, 15],\n",
       " [0, 0, 0, 1, 2, 0, 0, 0, 0],\n",
       " s[17, 15] - s[16, 16],\n",
       " [0, 0, 0, 1, 1, 1, 0, 0, 0],\n",
       " s[16, 16]]"
      ]
     },
     "execution_count": 98,
     "metadata": {},
     "output_type": "execute_result"
    }
   ],
   "source": [
    "CoefVector(8,3)"
   ]
  },
  {
   "cell_type": "code",
   "execution_count": 99,
   "id": "496d0f60",
   "metadata": {},
   "outputs": [
    {
     "data": {
      "text/html": [
       "<html>\\(\\displaystyle \\left[\\left[0, 0, 0, 0, 3, 0, 0, 0, 0\\right], s_{16,16}\\right]\\)</html>"
      ],
      "text/latex": [
       "$\\displaystyle \\left[\\left[0, 0, 0, 0, 3, 0, 0, 0, 0\\right], s_{16,16}\\right]$"
      ],
      "text/plain": [
       "[[0, 0, 0, 0, 3, 0, 0, 0, 0], s[16, 16]]"
      ]
     },
     "execution_count": 99,
     "metadata": {},
     "output_type": "execute_result"
    }
   ],
   "source": [
    "CoefVector(8,4)"
   ]
  },
  {
   "cell_type": "code",
   "execution_count": 102,
   "id": "8cdce98e",
   "metadata": {},
   "outputs": [
    {
     "data": {
      "text/html": [
       "<html>\\(\\displaystyle \\left[\\left[3\\right], s_{4}\\right]\\)</html>"
      ],
      "text/latex": [
       "$\\displaystyle \\left[\\left[3\\right], s_{4}\\right]$"
      ],
      "text/plain": [
       "[[3], s[4]]"
      ]
     },
     "execution_count": 102,
     "metadata": {},
     "output_type": "execute_result"
    }
   ],
   "source": [
    "CoefVector(1,0)"
   ]
  },
  {
   "cell_type": "code",
   "execution_count": 103,
   "id": "d2c3dceb",
   "metadata": {},
   "outputs": [
    {
     "data": {
      "text/html": [
       "<html>\\(\\displaystyle \\left[\\left[3\\right], s_{8}, \\left[2, 1, 0\\right], s_{6,2} - s_{5,3}, \\left[1, 2, 0\\right], s_{5,3} - s_{4,4}, \\left[1, 1, 1\\right], s_{4,4}\\right]\\)</html>"
      ],
      "text/latex": [
       "$\\displaystyle \\left[\\left[3\\right], s_{8}, \\left[2, 1, 0\\right], s_{6,2} - s_{5,3}, \\left[1, 2, 0\\right], s_{5,3} - s_{4,4}, \\left[1, 1, 1\\right], s_{4,4}\\right]$"
      ],
      "text/plain": [
       "[[3],\n",
       " s[8],\n",
       " [2, 1, 0],\n",
       " s[6, 2] - s[5, 3],\n",
       " [1, 2, 0],\n",
       " s[5, 3] - s[4, 4],\n",
       " [1, 1, 1],\n",
       " s[4, 4]]"
      ]
     },
     "execution_count": 103,
     "metadata": {},
     "output_type": "execute_result"
    }
   ],
   "source": [
    "CoefVector(2,0)"
   ]
  },
  {
   "cell_type": "code",
   "execution_count": 104,
   "id": "53cc20df",
   "metadata": {},
   "outputs": [
    {
     "data": {
      "text/html": [
       "<html>\\(\\displaystyle \\left[\\left[3\\right], s_{12}, \\left[2, 1, 0\\right], s_{10,2} - s_{7,5}, \\left[1, 2, 0\\right], s_{9,3} + s_{6,6}, \\left[1, 1, 1\\right], s_{7,5}\\right]\\)</html>"
      ],
      "text/latex": [
       "$\\displaystyle \\left[\\left[3\\right], s_{12}, \\left[2, 1, 0\\right], s_{10,2} - s_{7,5}, \\left[1, 2, 0\\right], s_{9,3} + s_{6,6}, \\left[1, 1, 1\\right], s_{7,5}\\right]$"
      ],
      "text/plain": [
       "[[3],\n",
       " s[12],\n",
       " [2, 1, 0],\n",
       " s[10, 2] - s[7, 5],\n",
       " [1, 2, 0],\n",
       " s[9, 3] + s[6, 6],\n",
       " [1, 1, 1],\n",
       " s[7, 5]]"
      ]
     },
     "execution_count": 104,
     "metadata": {},
     "output_type": "execute_result"
    }
   ],
   "source": [
    "CoefVector(3,0)"
   ]
  },
  {
   "cell_type": "code",
   "execution_count": 105,
   "id": "6a665659",
   "metadata": {},
   "outputs": [
    {
     "data": {
      "text/html": [
       "<html>\\(\\displaystyle \\left[\\left[3\\right], s_{16}, \\left[2, 1, 0\\right], s_{14,2} - s_{9,7}, \\left[1, 2, 0\\right], s_{13,3} + s_{9,7}, \\left[1, 1, 1\\right], s_{10,6}, \\left[2, 0, 1, 0, 0\\right], s_{12,4} - s_{11,5}, \\left[1, 1, 1, 0, 0\\right], s_{11,5} - s_{10,6}, \\left[1, 0, 2, 0, 0\\right], s_{10,6} - s_{9,7}, \\left[1, 0, 1, 1, 0\\right], s_{9,7} - s_{8,8}, \\left[1, 0, 1, 0, 1\\right], s_{8,8}\\right]\\)</html>"
      ],
      "text/latex": [
       "$\\displaystyle \\left[\\left[3\\right], s_{16}, \\left[2, 1, 0\\right], s_{14,2} - s_{9,7}, \\left[1, 2, 0\\right], s_{13,3} + s_{9,7}, \\left[1, 1, 1\\right], s_{10,6}, \\left[2, 0, 1, 0, 0\\right], s_{12,4} - s_{11,5}, \\left[1, 1, 1, 0, 0\\right], s_{11,5} - s_{10,6}, \\left[1, 0, 2, 0, 0\\right], s_{10,6} - s_{9,7}, \\left[1, 0, 1, 1, 0\\right], s_{9,7} - s_{8,8}, \\left[1, 0, 1, 0, 1\\right], s_{8,8}\\right]$"
      ],
      "text/plain": [
       "[[3],\n",
       " s[16],\n",
       " [2, 1, 0],\n",
       " s[14, 2] - s[9, 7],\n",
       " [1, 2, 0],\n",
       " s[13, 3] + s[9, 7],\n",
       " [1, 1, 1],\n",
       " s[10, 6],\n",
       " [2, 0, 1, 0, 0],\n",
       " s[12, 4] - s[11, 5],\n",
       " [1, 1, 1, 0, 0],\n",
       " s[11, 5] - s[10, 6],\n",
       " [1, 0, 2, 0, 0],\n",
       " s[10, 6] - s[9, 7],\n",
       " [1, 0, 1, 1, 0],\n",
       " s[9, 7] - s[8, 8],\n",
       " [1, 0, 1, 0, 1],\n",
       " s[8, 8]]"
      ]
     },
     "execution_count": 105,
     "metadata": {},
     "output_type": "execute_result"
    }
   ],
   "source": [
    "CoefVector(4,0)"
   ]
  },
  {
   "cell_type": "code",
   "execution_count": 106,
   "id": "f6539d43",
   "metadata": {},
   "outputs": [
    {
     "data": {
      "text/html": [
       "<html>\\(\\displaystyle \\left[\\left[3\\right], s_{20}, \\left[2, 1, 0\\right], s_{18,2} - s_{11,9}, \\left[1, 2, 0\\right], s_{17,3} + s_{12,8}, \\left[1, 1, 1\\right], s_{13,7}, \\left[2, 0, 1, 0, 0\\right], s_{16,4} - s_{13,7}, \\left[1, 1, 1, 0, 0\\right], s_{15,5} - s_{12,8}, \\left[1, 0, 2, 0, 0\\right], s_{14,6} - s_{10,10}, \\left[1, 0, 1, 1, 0\\right], s_{12,8} + s_{10,10}, \\left[1, 0, 1, 0, 1\\right], s_{11,9}\\right]\\)</html>"
      ],
      "text/latex": [
       "$\\displaystyle \\left[\\left[3\\right], s_{20}, \\left[2, 1, 0\\right], s_{18,2} - s_{11,9}, \\left[1, 2, 0\\right], s_{17,3} + s_{12,8}, \\left[1, 1, 1\\right], s_{13,7}, \\left[2, 0, 1, 0, 0\\right], s_{16,4} - s_{13,7}, \\left[1, 1, 1, 0, 0\\right], s_{15,5} - s_{12,8}, \\left[1, 0, 2, 0, 0\\right], s_{14,6} - s_{10,10}, \\left[1, 0, 1, 1, 0\\right], s_{12,8} + s_{10,10}, \\left[1, 0, 1, 0, 1\\right], s_{11,9}\\right]$"
      ],
      "text/plain": [
       "[[3],\n",
       " s[20],\n",
       " [2, 1, 0],\n",
       " s[18, 2] - s[11, 9],\n",
       " [1, 2, 0],\n",
       " s[17, 3] + s[12, 8],\n",
       " [1, 1, 1],\n",
       " s[13, 7],\n",
       " [2, 0, 1, 0, 0],\n",
       " s[16, 4] - s[13, 7],\n",
       " [1, 1, 1, 0, 0],\n",
       " s[15, 5] - s[12, 8],\n",
       " [1, 0, 2, 0, 0],\n",
       " s[14, 6] - s[10, 10],\n",
       " [1, 0, 1, 1, 0],\n",
       " s[12, 8] + s[10, 10],\n",
       " [1, 0, 1, 0, 1],\n",
       " s[11, 9]]"
      ]
     },
     "execution_count": 106,
     "metadata": {},
     "output_type": "execute_result"
    }
   ],
   "source": [
    "CoefVector(5,0)"
   ]
  },
  {
   "cell_type": "code",
   "execution_count": 107,
   "id": "ba148fb6",
   "metadata": {},
   "outputs": [
    {
     "data": {
      "text/html": [
       "<html>\\(\\displaystyle \\left[\\left[3\\right], s_{24}, \\left[2, 1, 0\\right], s_{22,2} - s_{13,11}, \\left[1, 2, 0\\right], s_{21,3} + s_{15,9}, \\left[1, 1, 1\\right], s_{16,8}, \\left[2, 0, 1, 0, 0\\right], s_{20,4} - s_{15,9}, \\left[1, 1, 1, 0, 0\\right], s_{19,5} - s_{14,10}, \\left[1, 0, 2, 0, 0\\right], s_{18,6} + s_{12,12}, \\left[1, 0, 1, 1, 0\\right], s_{15,9} + s_{13,11}, \\left[1, 0, 1, 0, 1\\right], s_{14,10}, \\left[2, 0, 0, 1, 0, 0, 0\\right], s_{18,6} - s_{17,7}, \\left[1, 1, 0, 1, 0, 0, 0\\right], s_{17,7} - s_{16,8}, \\left[1, 0, 1, 1, 0, 0, 0\\right], s_{16,8} - s_{15,9}, \\left[1, 0, 0, 2, 0, 0, 0\\right], s_{15,9} - s_{14,10}, \\left[1, 0, 0, 1, 1, 0, 0\\right], s_{14,10} - s_{13,11}, \\left[1, 0, 0, 1, 0, 1, 0\\right], s_{13,11} - s_{12,12}, \\left[1, 0, 0, 1, 0, 0, 1\\right], s_{12,12}\\right]\\)</html>"
      ],
      "text/latex": [
       "$\\displaystyle \\left[\\left[3\\right], s_{24}, \\left[2, 1, 0\\right], s_{22,2} - s_{13,11}, \\left[1, 2, 0\\right], s_{21,3} + s_{15,9}, \\left[1, 1, 1\\right], s_{16,8}, \\left[2, 0, 1, 0, 0\\right], s_{20,4} - s_{15,9}, \\left[1, 1, 1, 0, 0\\right], s_{19,5} - s_{14,10}, \\left[1, 0, 2, 0, 0\\right], s_{18,6} + s_{12,12}, \\left[1, 0, 1, 1, 0\\right], s_{15,9} + s_{13,11}, \\left[1, 0, 1, 0, 1\\right], s_{14,10}, \\left[2, 0, 0, 1, 0, 0, 0\\right], s_{18,6} - s_{17,7}, \\left[1, 1, 0, 1, 0, 0, 0\\right], s_{17,7} - s_{16,8}, \\left[1, 0, 1, 1, 0, 0, 0\\right], s_{16,8} - s_{15,9}, \\left[1, 0, 0, 2, 0, 0, 0\\right], s_{15,9} - s_{14,10}, \\left[1, 0, 0, 1, 1, 0, 0\\right], s_{14,10} - s_{13,11}, \\left[1, 0, 0, 1, 0, 1, 0\\right], s_{13,11} - s_{12,12}, \\left[1, 0, 0, 1, 0, 0, 1\\right], s_{12,12}\\right]$"
      ],
      "text/plain": [
       "[[3],\n",
       " s[24],\n",
       " [2, 1, 0],\n",
       " s[22, 2] - s[13, 11],\n",
       " [1, 2, 0],\n",
       " s[21, 3] + s[15, 9],\n",
       " [1, 1, 1],\n",
       " s[16, 8],\n",
       " [2, 0, 1, 0, 0],\n",
       " s[20, 4] - s[15, 9],\n",
       " [1, 1, 1, 0, 0],\n",
       " s[19, 5] - s[14, 10],\n",
       " [1, 0, 2, 0, 0],\n",
       " s[18, 6] + s[12, 12],\n",
       " [1, 0, 1, 1, 0],\n",
       " s[15, 9] + s[13, 11],\n",
       " [1, 0, 1, 0, 1],\n",
       " s[14, 10],\n",
       " [2, 0, 0, 1, 0, 0, 0],\n",
       " s[18, 6] - s[17, 7],\n",
       " [1, 1, 0, 1, 0, 0, 0],\n",
       " s[17, 7] - s[16, 8],\n",
       " [1, 0, 1, 1, 0, 0, 0],\n",
       " s[16, 8] - s[15, 9],\n",
       " [1, 0, 0, 2, 0, 0, 0],\n",
       " s[15, 9] - s[14, 10],\n",
       " [1, 0, 0, 1, 1, 0, 0],\n",
       " s[14, 10] - s[13, 11],\n",
       " [1, 0, 0, 1, 0, 1, 0],\n",
       " s[13, 11] - s[12, 12],\n",
       " [1, 0, 0, 1, 0, 0, 1],\n",
       " s[12, 12]]"
      ]
     },
     "execution_count": 107,
     "metadata": {},
     "output_type": "execute_result"
    }
   ],
   "source": [
    "CoefVector(6,0)"
   ]
  },
  {
   "cell_type": "code",
   "execution_count": 108,
   "id": "925cd492",
   "metadata": {},
   "outputs": [
    {
     "data": {
      "text/html": [
       "<html>\\(\\displaystyle \\left[\\left[3\\right], s_{28}, \\left[2, 1, 0\\right], s_{26,2} - s_{15,13}, \\left[1, 2, 0\\right], s_{25,3} + s_{18,10}, \\left[1, 1, 1\\right], s_{19,9}, \\left[2, 0, 1, 0, 0\\right], s_{24,4} - s_{17,11}, \\left[1, 1, 1, 0, 0\\right], s_{23,5} - s_{16,12}, \\left[1, 0, 2, 0, 0\\right], s_{22,6} + s_{15,13}, \\left[1, 0, 1, 1, 0\\right], s_{18,10} + s_{16,12}, \\left[1, 0, 1, 0, 1\\right], s_{17,11}, \\left[2, 0, 0, 1, 0, 0, 0\\right], s_{22,6} - s_{19,9}, \\left[1, 1, 0, 1, 0, 0, 0\\right], s_{21,7} - s_{18,10}, \\left[1, 0, 1, 1, 0, 0, 0\\right], s_{20,8} - s_{17,11}, \\left[1, 0, 0, 2, 0, 0, 0\\right], s_{19,9} - s_{15,13}, \\left[1, 0, 0, 1, 1, 0, 0\\right], s_{17,11} - s_{14,14}, \\left[1, 0, 0, 1, 0, 1, 0\\right], s_{16,12} + s_{14,14}, \\left[1, 0, 0, 1, 0, 0, 1\\right], s_{15,13}\\right]\\)</html>"
      ],
      "text/latex": [
       "$\\displaystyle \\left[\\left[3\\right], s_{28}, \\left[2, 1, 0\\right], s_{26,2} - s_{15,13}, \\left[1, 2, 0\\right], s_{25,3} + s_{18,10}, \\left[1, 1, 1\\right], s_{19,9}, \\left[2, 0, 1, 0, 0\\right], s_{24,4} - s_{17,11}, \\left[1, 1, 1, 0, 0\\right], s_{23,5} - s_{16,12}, \\left[1, 0, 2, 0, 0\\right], s_{22,6} + s_{15,13}, \\left[1, 0, 1, 1, 0\\right], s_{18,10} + s_{16,12}, \\left[1, 0, 1, 0, 1\\right], s_{17,11}, \\left[2, 0, 0, 1, 0, 0, 0\\right], s_{22,6} - s_{19,9}, \\left[1, 1, 0, 1, 0, 0, 0\\right], s_{21,7} - s_{18,10}, \\left[1, 0, 1, 1, 0, 0, 0\\right], s_{20,8} - s_{17,11}, \\left[1, 0, 0, 2, 0, 0, 0\\right], s_{19,9} - s_{15,13}, \\left[1, 0, 0, 1, 1, 0, 0\\right], s_{17,11} - s_{14,14}, \\left[1, 0, 0, 1, 0, 1, 0\\right], s_{16,12} + s_{14,14}, \\left[1, 0, 0, 1, 0, 0, 1\\right], s_{15,13}\\right]$"
      ],
      "text/plain": [
       "[[3],\n",
       " s[28],\n",
       " [2, 1, 0],\n",
       " s[26, 2] - s[15, 13],\n",
       " [1, 2, 0],\n",
       " s[25, 3] + s[18, 10],\n",
       " [1, 1, 1],\n",
       " s[19, 9],\n",
       " [2, 0, 1, 0, 0],\n",
       " s[24, 4] - s[17, 11],\n",
       " [1, 1, 1, 0, 0],\n",
       " s[23, 5] - s[16, 12],\n",
       " [1, 0, 2, 0, 0],\n",
       " s[22, 6] + s[15, 13],\n",
       " [1, 0, 1, 1, 0],\n",
       " s[18, 10] + s[16, 12],\n",
       " [1, 0, 1, 0, 1],\n",
       " s[17, 11],\n",
       " [2, 0, 0, 1, 0, 0, 0],\n",
       " s[22, 6] - s[19, 9],\n",
       " [1, 1, 0, 1, 0, 0, 0],\n",
       " s[21, 7] - s[18, 10],\n",
       " [1, 0, 1, 1, 0, 0, 0],\n",
       " s[20, 8] - s[17, 11],\n",
       " [1, 0, 0, 2, 0, 0, 0],\n",
       " s[19, 9] - s[15, 13],\n",
       " [1, 0, 0, 1, 1, 0, 0],\n",
       " s[17, 11] - s[14, 14],\n",
       " [1, 0, 0, 1, 0, 1, 0],\n",
       " s[16, 12] + s[14, 14],\n",
       " [1, 0, 0, 1, 0, 0, 1],\n",
       " s[15, 13]]"
      ]
     },
     "execution_count": 108,
     "metadata": {},
     "output_type": "execute_result"
    }
   ],
   "source": [
    "CoefVector(7,0)"
   ]
  },
  {
   "cell_type": "code",
   "execution_count": 109,
   "id": "8710897e",
   "metadata": {},
   "outputs": [
    {
     "data": {
      "text/html": [
       "<html>\\(\\displaystyle \\left[\\left[3\\right], s_{32}, \\left[2, 1, 0\\right], s_{30,2} - s_{17,15}, \\left[1, 2, 0\\right], s_{29,3} + s_{21,11}, \\left[1, 1, 1\\right], s_{22,10}, \\left[2, 0, 1, 0, 0\\right], s_{28,4} - s_{19,13}, \\left[1, 1, 1, 0, 0\\right], s_{27,5} - s_{18,14}, \\left[1, 0, 2, 0, 0\\right], s_{26,6} + s_{18,14}, \\left[1, 0, 1, 1, 0\\right], s_{21,11} + s_{19,13}, \\left[1, 0, 1, 0, 1\\right], s_{20,12}, \\left[2, 0, 0, 1, 0, 0, 0\\right], s_{26,6} - s_{21,11}, \\left[1, 1, 0, 1, 0, 0, 0\\right], s_{25,7} - s_{20,12}, \\left[1, 0, 1, 1, 0, 0, 0\\right], s_{24,8} - s_{19,13}, \\left[1, 0, 0, 2, 0, 0, 0\\right], s_{23,9} - s_{16,16}, \\left[1, 0, 0, 1, 1, 0, 0\\right], s_{20,12} + s_{16,16}, \\left[1, 0, 0, 1, 0, 1, 0\\right], s_{19,13} + s_{17,15}, \\left[1, 0, 0, 1, 0, 0, 1\\right], s_{18,14}, \\left[2, 0, 0, 0, 1, 0, 0, 0, 0\\right], s_{24,8} - s_{23,9}, \\left[1, 1, 0, 0, 1, 0, 0, 0, 0\\right], s_{23,9} - s_{22,10}, \\left[1, 0, 1, 0, 1, 0, 0, 0, 0\\right], s_{22,10} - s_{21,11}, \\left[1, 0, 0, 1, 1, 0, 0, 0, 0\\right], s_{21,11} - s_{20,12}, \\left[1, 0, 0, 0, 2, 0, 0, 0, 0\\right], s_{20,12} - s_{19,13}, \\left[1, 0, 0, 0, 1, 1, 0, 0, 0\\right], s_{19,13} - s_{18,14}, \\left[1, 0, 0, 0, 1, 0, 1, 0, 0\\right], s_{18,14} - s_{17,15}, \\left[1, 0, 0, 0, 1, 0, 0, 1, 0\\right], s_{17,15} - s_{16,16}, \\left[1, 0, 0, 0, 1, 0, 0, 0, 1\\right], s_{16,16}\\right]\\)</html>"
      ],
      "text/latex": [
       "$\\displaystyle \\left[\\left[3\\right], s_{32}, \\left[2, 1, 0\\right], s_{30,2} - s_{17,15}, \\left[1, 2, 0\\right], s_{29,3} + s_{21,11}, \\left[1, 1, 1\\right], s_{22,10}, \\left[2, 0, 1, 0, 0\\right], s_{28,4} - s_{19,13}, \\left[1, 1, 1, 0, 0\\right], s_{27,5} - s_{18,14}, \\left[1, 0, 2, 0, 0\\right], s_{26,6} + s_{18,14}, \\left[1, 0, 1, 1, 0\\right], s_{21,11} + s_{19,13}, \\left[1, 0, 1, 0, 1\\right], s_{20,12}, \\left[2, 0, 0, 1, 0, 0, 0\\right], s_{26,6} - s_{21,11}, \\left[1, 1, 0, 1, 0, 0, 0\\right], s_{25,7} - s_{20,12}, \\left[1, 0, 1, 1, 0, 0, 0\\right], s_{24,8} - s_{19,13}, \\left[1, 0, 0, 2, 0, 0, 0\\right], s_{23,9} - s_{16,16}, \\left[1, 0, 0, 1, 1, 0, 0\\right], s_{20,12} + s_{16,16}, \\left[1, 0, 0, 1, 0, 1, 0\\right], s_{19,13} + s_{17,15}, \\left[1, 0, 0, 1, 0, 0, 1\\right], s_{18,14}, \\left[2, 0, 0, 0, 1, 0, 0, 0, 0\\right], s_{24,8} - s_{23,9}, \\left[1, 1, 0, 0, 1, 0, 0, 0, 0\\right], s_{23,9} - s_{22,10}, \\left[1, 0, 1, 0, 1, 0, 0, 0, 0\\right], s_{22,10} - s_{21,11}, \\left[1, 0, 0, 1, 1, 0, 0, 0, 0\\right], s_{21,11} - s_{20,12}, \\left[1, 0, 0, 0, 2, 0, 0, 0, 0\\right], s_{20,12} - s_{19,13}, \\left[1, 0, 0, 0, 1, 1, 0, 0, 0\\right], s_{19,13} - s_{18,14}, \\left[1, 0, 0, 0, 1, 0, 1, 0, 0\\right], s_{18,14} - s_{17,15}, \\left[1, 0, 0, 0, 1, 0, 0, 1, 0\\right], s_{17,15} - s_{16,16}, \\left[1, 0, 0, 0, 1, 0, 0, 0, 1\\right], s_{16,16}\\right]$"
      ],
      "text/plain": [
       "[[3],\n",
       " s[32],\n",
       " [2, 1, 0],\n",
       " s[30, 2] - s[17, 15],\n",
       " [1, 2, 0],\n",
       " s[29, 3] + s[21, 11],\n",
       " [1, 1, 1],\n",
       " s[22, 10],\n",
       " [2, 0, 1, 0, 0],\n",
       " s[28, 4] - s[19, 13],\n",
       " [1, 1, 1, 0, 0],\n",
       " s[27, 5] - s[18, 14],\n",
       " [1, 0, 2, 0, 0],\n",
       " s[26, 6] + s[18, 14],\n",
       " [1, 0, 1, 1, 0],\n",
       " s[21, 11] + s[19, 13],\n",
       " [1, 0, 1, 0, 1],\n",
       " s[20, 12],\n",
       " [2, 0, 0, 1, 0, 0, 0],\n",
       " s[26, 6] - s[21, 11],\n",
       " [1, 1, 0, 1, 0, 0, 0],\n",
       " s[25, 7] - s[20, 12],\n",
       " [1, 0, 1, 1, 0, 0, 0],\n",
       " s[24, 8] - s[19, 13],\n",
       " [1, 0, 0, 2, 0, 0, 0],\n",
       " s[23, 9] - s[16, 16],\n",
       " [1, 0, 0, 1, 1, 0, 0],\n",
       " s[20, 12] + s[16, 16],\n",
       " [1, 0, 0, 1, 0, 1, 0],\n",
       " s[19, 13] + s[17, 15],\n",
       " [1, 0, 0, 1, 0, 0, 1],\n",
       " s[18, 14],\n",
       " [2, 0, 0, 0, 1, 0, 0, 0, 0],\n",
       " s[24, 8] - s[23, 9],\n",
       " [1, 1, 0, 0, 1, 0, 0, 0, 0],\n",
       " s[23, 9] - s[22, 10],\n",
       " [1, 0, 1, 0, 1, 0, 0, 0, 0],\n",
       " s[22, 10] - s[21, 11],\n",
       " [1, 0, 0, 1, 1, 0, 0, 0, 0],\n",
       " s[21, 11] - s[20, 12],\n",
       " [1, 0, 0, 0, 2, 0, 0, 0, 0],\n",
       " s[20, 12] - s[19, 13],\n",
       " [1, 0, 0, 0, 1, 1, 0, 0, 0],\n",
       " s[19, 13] - s[18, 14],\n",
       " [1, 0, 0, 0, 1, 0, 1, 0, 0],\n",
       " s[18, 14] - s[17, 15],\n",
       " [1, 0, 0, 0, 1, 0, 0, 1, 0],\n",
       " s[17, 15] - s[16, 16],\n",
       " [1, 0, 0, 0, 1, 0, 0, 0, 1],\n",
       " s[16, 16]]"
      ]
     },
     "execution_count": 109,
     "metadata": {},
     "output_type": "execute_result"
    }
   ],
   "source": [
    "CoefVector(8,0)"
   ]
  },
  {
   "cell_type": "code",
   "execution_count": 110,
   "id": "bbf8ee7c",
   "metadata": {},
   "outputs": [
    {
     "data": {
      "text/html": [
       "<html>\\(\\displaystyle \\left[\\left[3\\right], s_{36}, \\left[2, 1, 0\\right], s_{34,2} - s_{19,17}, \\left[1, 2, 0\\right], s_{33,3} + s_{24,12}, \\left[1, 1, 1\\right], s_{25,11}, \\left[2, 0, 1, 0, 0\\right], s_{32,4} - s_{21,15}, \\left[1, 1, 1, 0, 0\\right], s_{31,5} - s_{20,16}, \\left[1, 0, 2, 0, 0\\right], s_{30,6} + s_{21,15}, \\left[1, 0, 1, 1, 0\\right], s_{24,12} + s_{22,14}, \\left[1, 0, 1, 0, 1\\right], s_{23,13}, \\left[2, 0, 0, 1, 0, 0, 0\\right], s_{30,6} - s_{23,13}, \\left[1, 1, 0, 1, 0, 0, 0\\right], s_{29,7} - s_{22,14}, \\left[1, 0, 1, 1, 0, 0, 0\\right], s_{28,8} - s_{21,15}, \\left[1, 0, 0, 2, 0, 0, 0\\right], s_{27,9} + s_{18,18}, \\left[1, 0, 0, 1, 1, 0, 0\\right], s_{23,13} + s_{19,17}, \\left[1, 0, 0, 1, 0, 1, 0\\right], s_{22,14} + s_{20,16}, \\left[1, 0, 0, 1, 0, 0, 1\\right], s_{21,15}, \\left[2, 0, 0, 0, 1, 0, 0, 0, 0\\right], s_{28,8} - s_{25,11}, \\left[1, 1, 0, 0, 1, 0, 0, 0, 0\\right], s_{27,9} - s_{24,12}, \\left[1, 0, 1, 0, 1, 0, 0, 0, 0\\right], s_{26,10} - s_{23,13}, \\left[1, 0, 0, 1, 1, 0, 0, 0, 0\\right], s_{25,11} - s_{22,14}, \\left[1, 0, 0, 0, 2, 0, 0, 0, 0\\right], s_{24,12} - s_{20,16}, \\left[1, 0, 0, 0, 1, 1, 0, 0, 0\\right], s_{22,14} - s_{19,17}, \\left[1, 0, 0, 0, 1, 0, 1, 0, 0\\right], s_{21,15} - s_{18,18}, \\left[1, 0, 0, 0, 1, 0, 0, 1, 0\\right], s_{20,16} + s_{18,18}, \\left[1, 0, 0, 0, 1, 0, 0, 0, 1\\right], s_{19,17}\\right]\\)</html>"
      ],
      "text/latex": [
       "$\\displaystyle \\left[\\left[3\\right], s_{36}, \\left[2, 1, 0\\right], s_{34,2} - s_{19,17}, \\left[1, 2, 0\\right], s_{33,3} + s_{24,12}, \\left[1, 1, 1\\right], s_{25,11}, \\left[2, 0, 1, 0, 0\\right], s_{32,4} - s_{21,15}, \\left[1, 1, 1, 0, 0\\right], s_{31,5} - s_{20,16}, \\left[1, 0, 2, 0, 0\\right], s_{30,6} + s_{21,15}, \\left[1, 0, 1, 1, 0\\right], s_{24,12} + s_{22,14}, \\left[1, 0, 1, 0, 1\\right], s_{23,13}, \\left[2, 0, 0, 1, 0, 0, 0\\right], s_{30,6} - s_{23,13}, \\left[1, 1, 0, 1, 0, 0, 0\\right], s_{29,7} - s_{22,14}, \\left[1, 0, 1, 1, 0, 0, 0\\right], s_{28,8} - s_{21,15}, \\left[1, 0, 0, 2, 0, 0, 0\\right], s_{27,9} + s_{18,18}, \\left[1, 0, 0, 1, 1, 0, 0\\right], s_{23,13} + s_{19,17}, \\left[1, 0, 0, 1, 0, 1, 0\\right], s_{22,14} + s_{20,16}, \\left[1, 0, 0, 1, 0, 0, 1\\right], s_{21,15}, \\left[2, 0, 0, 0, 1, 0, 0, 0, 0\\right], s_{28,8} - s_{25,11}, \\left[1, 1, 0, 0, 1, 0, 0, 0, 0\\right], s_{27,9} - s_{24,12}, \\left[1, 0, 1, 0, 1, 0, 0, 0, 0\\right], s_{26,10} - s_{23,13}, \\left[1, 0, 0, 1, 1, 0, 0, 0, 0\\right], s_{25,11} - s_{22,14}, \\left[1, 0, 0, 0, 2, 0, 0, 0, 0\\right], s_{24,12} - s_{20,16}, \\left[1, 0, 0, 0, 1, 1, 0, 0, 0\\right], s_{22,14} - s_{19,17}, \\left[1, 0, 0, 0, 1, 0, 1, 0, 0\\right], s_{21,15} - s_{18,18}, \\left[1, 0, 0, 0, 1, 0, 0, 1, 0\\right], s_{20,16} + s_{18,18}, \\left[1, 0, 0, 0, 1, 0, 0, 0, 1\\right], s_{19,17}\\right]$"
      ],
      "text/plain": [
       "[[3],\n",
       " s[36],\n",
       " [2, 1, 0],\n",
       " s[34, 2] - s[19, 17],\n",
       " [1, 2, 0],\n",
       " s[33, 3] + s[24, 12],\n",
       " [1, 1, 1],\n",
       " s[25, 11],\n",
       " [2, 0, 1, 0, 0],\n",
       " s[32, 4] - s[21, 15],\n",
       " [1, 1, 1, 0, 0],\n",
       " s[31, 5] - s[20, 16],\n",
       " [1, 0, 2, 0, 0],\n",
       " s[30, 6] + s[21, 15],\n",
       " [1, 0, 1, 1, 0],\n",
       " s[24, 12] + s[22, 14],\n",
       " [1, 0, 1, 0, 1],\n",
       " s[23, 13],\n",
       " [2, 0, 0, 1, 0, 0, 0],\n",
       " s[30, 6] - s[23, 13],\n",
       " [1, 1, 0, 1, 0, 0, 0],\n",
       " s[29, 7] - s[22, 14],\n",
       " [1, 0, 1, 1, 0, 0, 0],\n",
       " s[28, 8] - s[21, 15],\n",
       " [1, 0, 0, 2, 0, 0, 0],\n",
       " s[27, 9] + s[18, 18],\n",
       " [1, 0, 0, 1, 1, 0, 0],\n",
       " s[23, 13] + s[19, 17],\n",
       " [1, 0, 0, 1, 0, 1, 0],\n",
       " s[22, 14] + s[20, 16],\n",
       " [1, 0, 0, 1, 0, 0, 1],\n",
       " s[21, 15],\n",
       " [2, 0, 0, 0, 1, 0, 0, 0, 0],\n",
       " s[28, 8] - s[25, 11],\n",
       " [1, 1, 0, 0, 1, 0, 0, 0, 0],\n",
       " s[27, 9] - s[24, 12],\n",
       " [1, 0, 1, 0, 1, 0, 0, 0, 0],\n",
       " s[26, 10] - s[23, 13],\n",
       " [1, 0, 0, 1, 1, 0, 0, 0, 0],\n",
       " s[25, 11] - s[22, 14],\n",
       " [1, 0, 0, 0, 2, 0, 0, 0, 0],\n",
       " s[24, 12] - s[20, 16],\n",
       " [1, 0, 0, 0, 1, 1, 0, 0, 0],\n",
       " s[22, 14] - s[19, 17],\n",
       " [1, 0, 0, 0, 1, 0, 1, 0, 0],\n",
       " s[21, 15] - s[18, 18],\n",
       " [1, 0, 0, 0, 1, 0, 0, 1, 0],\n",
       " s[20, 16] + s[18, 18],\n",
       " [1, 0, 0, 0, 1, 0, 0, 0, 1],\n",
       " s[19, 17]]"
      ]
     },
     "execution_count": 110,
     "metadata": {},
     "output_type": "execute_result"
    }
   ],
   "source": [
    "CoefVector(9,0)"
   ]
  },
  {
   "cell_type": "code",
   "execution_count": 111,
   "id": "ee5b4729",
   "metadata": {},
   "outputs": [
    {
     "data": {
      "text/html": [
       "<html>\\(\\displaystyle \\left[\\left[3\\right], s_{40}, \\left[2, 1, 0\\right], s_{38,2} - s_{21,19}, \\left[1, 2, 0\\right], s_{37,3} + s_{27,13}, \\left[1, 1, 1\\right], s_{28,12}, \\left[2, 0, 1, 0, 0\\right], s_{36,4} - s_{23,17}, \\left[1, 1, 1, 0, 0\\right], s_{35,5} - s_{22,18}, \\left[1, 0, 2, 0, 0\\right], s_{34,6} + s_{24,16}, \\left[1, 0, 1, 1, 0\\right], s_{27,13} + s_{25,15}, \\left[1, 0, 1, 0, 1\\right], s_{26,14}, \\left[2, 0, 0, 1, 0, 0, 0\\right], s_{34,6} - s_{25,15}, \\left[1, 1, 0, 1, 0, 0, 0\\right], s_{33,7} - s_{24,16}, \\left[1, 0, 1, 1, 0, 0, 0\\right], s_{32,8} - s_{23,17}, \\left[1, 0, 0, 2, 0, 0, 0\\right], s_{31,9} + s_{21,19}, \\left[1, 0, 0, 1, 1, 0, 0\\right], s_{26,14} + s_{22,18}, \\left[1, 0, 0, 1, 0, 1, 0\\right], s_{25,15} + s_{23,17}, \\left[1, 0, 0, 1, 0, 0, 1\\right], s_{24,16}, \\left[2, 0, 0, 0, 1, 0, 0, 0, 0\\right], s_{32,8} - s_{27,13}, \\left[1, 1, 0, 0, 1, 0, 0, 0, 0\\right], s_{31,9} - s_{26,14}, \\left[1, 0, 1, 0, 1, 0, 0, 0, 0\\right], s_{30,10} - s_{25,15}, \\left[1, 0, 0, 1, 1, 0, 0, 0, 0\\right], s_{29,11} - s_{24,16}, \\left[1, 0, 0, 0, 2, 0, 0, 0, 0\\right], s_{28,12} - s_{21,19}, \\left[1, 0, 0, 0, 1, 1, 0, 0, 0\\right], s_{25,15} - s_{20,20}, \\left[1, 0, 0, 0, 1, 0, 1, 0, 0\\right], s_{24,16} + s_{20,20}, \\left[1, 0, 0, 0, 1, 0, 0, 1, 0\\right], s_{23,17} + s_{21,19}, \\left[1, 0, 0, 0, 1, 0, 0, 0, 1\\right], s_{22,18}, \\left[2, 0, 0, 0, 0, 1, 0, 0, 0, 0, 0\\right], s_{30,10} - s_{29,11}, \\left[1, 1, 0, 0, 0, 1, 0, 0, 0, 0, 0\\right], s_{29,11} - s_{28,12}, \\left[1, 0, 1, 0, 0, 1, 0, 0, 0, 0, 0\\right], s_{28,12} - s_{27,13}, \\left[1, 0, 0, 1, 0, 1, 0, 0, 0, 0, 0\\right], s_{27,13} - s_{26,14}, \\left[1, 0, 0, 0, 1, 1, 0, 0, 0, 0, 0\\right], s_{26,14} - s_{25,15}, \\left[1, 0, 0, 0, 0, 2, 0, 0, 0, 0, 0\\right], s_{25,15} - s_{24,16}, \\left[1, 0, 0, 0, 0, 1, 1, 0, 0, 0, 0\\right], s_{24,16} - s_{23,17}, \\left[1, 0, 0, 0, 0, 1, 0, 1, 0, 0, 0\\right], s_{23,17} - s_{22,18}, \\left[1, 0, 0, 0, 0, 1, 0, 0, 1, 0, 0\\right], s_{22,18} - s_{21,19}, \\left[1, 0, 0, 0, 0, 1, 0, 0, 0, 1, 0\\right], s_{21,19} - s_{20,20}, \\left[1, 0, 0, 0, 0, 1, 0, 0, 0, 0, 1\\right], s_{20,20}\\right]\\)</html>"
      ],
      "text/latex": [
       "$\\displaystyle \\left[\\left[3\\right], s_{40}, \\left[2, 1, 0\\right], s_{38,2} - s_{21,19}, \\left[1, 2, 0\\right], s_{37,3} + s_{27,13}, \\left[1, 1, 1\\right], s_{28,12}, \\left[2, 0, 1, 0, 0\\right], s_{36,4} - s_{23,17}, \\left[1, 1, 1, 0, 0\\right], s_{35,5} - s_{22,18}, \\left[1, 0, 2, 0, 0\\right], s_{34,6} + s_{24,16}, \\left[1, 0, 1, 1, 0\\right], s_{27,13} + s_{25,15}, \\left[1, 0, 1, 0, 1\\right], s_{26,14}, \\left[2, 0, 0, 1, 0, 0, 0\\right], s_{34,6} - s_{25,15}, \\left[1, 1, 0, 1, 0, 0, 0\\right], s_{33,7} - s_{24,16}, \\left[1, 0, 1, 1, 0, 0, 0\\right], s_{32,8} - s_{23,17}, \\left[1, 0, 0, 2, 0, 0, 0\\right], s_{31,9} + s_{21,19}, \\left[1, 0, 0, 1, 1, 0, 0\\right], s_{26,14} + s_{22,18}, \\left[1, 0, 0, 1, 0, 1, 0\\right], s_{25,15} + s_{23,17}, \\left[1, 0, 0, 1, 0, 0, 1\\right], s_{24,16}, \\left[2, 0, 0, 0, 1, 0, 0, 0, 0\\right], s_{32,8} - s_{27,13}, \\left[1, 1, 0, 0, 1, 0, 0, 0, 0\\right], s_{31,9} - s_{26,14}, \\left[1, 0, 1, 0, 1, 0, 0, 0, 0\\right], s_{30,10} - s_{25,15}, \\left[1, 0, 0, 1, 1, 0, 0, 0, 0\\right], s_{29,11} - s_{24,16}, \\left[1, 0, 0, 0, 2, 0, 0, 0, 0\\right], s_{28,12} - s_{21,19}, \\left[1, 0, 0, 0, 1, 1, 0, 0, 0\\right], s_{25,15} - s_{20,20}, \\left[1, 0, 0, 0, 1, 0, 1, 0, 0\\right], s_{24,16} + s_{20,20}, \\left[1, 0, 0, 0, 1, 0, 0, 1, 0\\right], s_{23,17} + s_{21,19}, \\left[1, 0, 0, 0, 1, 0, 0, 0, 1\\right], s_{22,18}, \\left[2, 0, 0, 0, 0, 1, 0, 0, 0, 0, 0\\right], s_{30,10} - s_{29,11}, \\left[1, 1, 0, 0, 0, 1, 0, 0, 0, 0, 0\\right], s_{29,11} - s_{28,12}, \\left[1, 0, 1, 0, 0, 1, 0, 0, 0, 0, 0\\right], s_{28,12} - s_{27,13}, \\left[1, 0, 0, 1, 0, 1, 0, 0, 0, 0, 0\\right], s_{27,13} - s_{26,14}, \\left[1, 0, 0, 0, 1, 1, 0, 0, 0, 0, 0\\right], s_{26,14} - s_{25,15}, \\left[1, 0, 0, 0, 0, 2, 0, 0, 0, 0, 0\\right], s_{25,15} - s_{24,16}, \\left[1, 0, 0, 0, 0, 1, 1, 0, 0, 0, 0\\right], s_{24,16} - s_{23,17}, \\left[1, 0, 0, 0, 0, 1, 0, 1, 0, 0, 0\\right], s_{23,17} - s_{22,18}, \\left[1, 0, 0, 0, 0, 1, 0, 0, 1, 0, 0\\right], s_{22,18} - s_{21,19}, \\left[1, 0, 0, 0, 0, 1, 0, 0, 0, 1, 0\\right], s_{21,19} - s_{20,20}, \\left[1, 0, 0, 0, 0, 1, 0, 0, 0, 0, 1\\right], s_{20,20}\\right]$"
      ],
      "text/plain": [
       "[[3],\n",
       " s[40],\n",
       " [2, 1, 0],\n",
       " s[38, 2] - s[21, 19],\n",
       " [1, 2, 0],\n",
       " s[37, 3] + s[27, 13],\n",
       " [1, 1, 1],\n",
       " s[28, 12],\n",
       " [2, 0, 1, 0, 0],\n",
       " s[36, 4] - s[23, 17],\n",
       " [1, 1, 1, 0, 0],\n",
       " s[35, 5] - s[22, 18],\n",
       " [1, 0, 2, 0, 0],\n",
       " s[34, 6] + s[24, 16],\n",
       " [1, 0, 1, 1, 0],\n",
       " s[27, 13] + s[25, 15],\n",
       " [1, 0, 1, 0, 1],\n",
       " s[26, 14],\n",
       " [2, 0, 0, 1, 0, 0, 0],\n",
       " s[34, 6] - s[25, 15],\n",
       " [1, 1, 0, 1, 0, 0, 0],\n",
       " s[33, 7] - s[24, 16],\n",
       " [1, 0, 1, 1, 0, 0, 0],\n",
       " s[32, 8] - s[23, 17],\n",
       " [1, 0, 0, 2, 0, 0, 0],\n",
       " s[31, 9] + s[21, 19],\n",
       " [1, 0, 0, 1, 1, 0, 0],\n",
       " s[26, 14] + s[22, 18],\n",
       " [1, 0, 0, 1, 0, 1, 0],\n",
       " s[25, 15] + s[23, 17],\n",
       " [1, 0, 0, 1, 0, 0, 1],\n",
       " s[24, 16],\n",
       " [2, 0, 0, 0, 1, 0, 0, 0, 0],\n",
       " s[32, 8] - s[27, 13],\n",
       " [1, 1, 0, 0, 1, 0, 0, 0, 0],\n",
       " s[31, 9] - s[26, 14],\n",
       " [1, 0, 1, 0, 1, 0, 0, 0, 0],\n",
       " s[30, 10] - s[25, 15],\n",
       " [1, 0, 0, 1, 1, 0, 0, 0, 0],\n",
       " s[29, 11] - s[24, 16],\n",
       " [1, 0, 0, 0, 2, 0, 0, 0, 0],\n",
       " s[28, 12] - s[21, 19],\n",
       " [1, 0, 0, 0, 1, 1, 0, 0, 0],\n",
       " s[25, 15] - s[20, 20],\n",
       " [1, 0, 0, 0, 1, 0, 1, 0, 0],\n",
       " s[24, 16] + s[20, 20],\n",
       " [1, 0, 0, 0, 1, 0, 0, 1, 0],\n",
       " s[23, 17] + s[21, 19],\n",
       " [1, 0, 0, 0, 1, 0, 0, 0, 1],\n",
       " s[22, 18],\n",
       " [2, 0, 0, 0, 0, 1, 0, 0, 0, 0, 0],\n",
       " s[30, 10] - s[29, 11],\n",
       " [1, 1, 0, 0, 0, 1, 0, 0, 0, 0, 0],\n",
       " s[29, 11] - s[28, 12],\n",
       " [1, 0, 1, 0, 0, 1, 0, 0, 0, 0, 0],\n",
       " s[28, 12] - s[27, 13],\n",
       " [1, 0, 0, 1, 0, 1, 0, 0, 0, 0, 0],\n",
       " s[27, 13] - s[26, 14],\n",
       " [1, 0, 0, 0, 1, 1, 0, 0, 0, 0, 0],\n",
       " s[26, 14] - s[25, 15],\n",
       " [1, 0, 0, 0, 0, 2, 0, 0, 0, 0, 0],\n",
       " s[25, 15] - s[24, 16],\n",
       " [1, 0, 0, 0, 0, 1, 1, 0, 0, 0, 0],\n",
       " s[24, 16] - s[23, 17],\n",
       " [1, 0, 0, 0, 0, 1, 0, 1, 0, 0, 0],\n",
       " s[23, 17] - s[22, 18],\n",
       " [1, 0, 0, 0, 0, 1, 0, 0, 1, 0, 0],\n",
       " s[22, 18] - s[21, 19],\n",
       " [1, 0, 0, 0, 0, 1, 0, 0, 0, 1, 0],\n",
       " s[21, 19] - s[20, 20],\n",
       " [1, 0, 0, 0, 0, 1, 0, 0, 0, 0, 1],\n",
       " s[20, 20]]"
      ]
     },
     "execution_count": 111,
     "metadata": {},
     "output_type": "execute_result"
    }
   ],
   "source": [
    "CoefVector(10,0)"
   ]
  },
  {
   "cell_type": "code",
   "execution_count": 114,
   "id": "e3477e77",
   "metadata": {},
   "outputs": [
    {
     "data": {
      "text/html": [
       "<html>\\(\\displaystyle \\left[\\left(0, 0\\right), \\left[s_{40}\\right], \\left(0, 1\\right), \\left[s_{38,2} + s_{37,3} + s_{28,12} + s_{27,13} - s_{21,19}\\right], \\left(0, 2\\right), \\left[s_{36,4} + s_{35,5} + s_{34,6} + s_{27,13} + s_{26,14} + s_{25,15} + s_{24,16} - s_{23,17} - s_{22,18}\\right], \\left(0, 3\\right), \\left[s_{34,6} + s_{33,7} + s_{32,8} + s_{31,9} + s_{26,14} + s_{22,18} + s_{21,19}\\right], \\left(0, 4\\right), \\left[s_{32,8} + s_{31,9} + s_{30,10} + s_{29,11} + s_{28,12} - s_{27,13} - s_{26,14} + s_{23,17} + s_{22,18}\\right], \\left(0, 5\\right), \\left[s_{30,10}\\right], \\left(1, 0\\right), \\left[s_{36,4}\\right], \\left(1, 1\\right), \\left[s_{34,6} + s_{33,7} + s_{26,14} + s_{25,15} - s_{21,19}\\right], \\left(1, 2\\right), \\left[s_{32,8} + s_{31,9} + s_{30,10} + s_{25,15} + s_{24,16}\\right], \\left(1, 3\\right), \\left[s_{30,10} + s_{29,11} + s_{28,12} + s_{27,13} - s_{25,15} + s_{22,18} + s_{21,19}\\right], \\left(1, 4\\right), \\left[s_{28,12}\\right], \\left(2, 0\\right), \\left[s_{32,8}\\right], \\left(2, 1\\right), \\left[s_{30,10} + s_{29,11} + s_{24,16} + s_{23,17} - s_{21,19}\\right], \\left(2, 2\\right), \\left[s_{28,12} + s_{27,13} + s_{26,14} + s_{21,19} + s_{20,20}\\right], \\left(2, 3\\right), \\left[s_{26,14}\\right], \\left(3, 0\\right), \\left[s_{28,12}\\right], \\left(3, 1\\right), \\left[s_{26,14} + s_{25,15} + s_{22,18}\\right], \\left(3, 2\\right), \\left[s_{24,16}\\right], \\left(4, 0\\right), \\left[s_{24,16}\\right], \\left(4, 1\\right), \\left[s_{22,18}\\right], \\left(5, 0\\right), \\left[s_{20,20}\\right]\\right]\\)</html>"
      ],
      "text/latex": [
       "$\\displaystyle \\left[\\left(0, 0\\right), \\left[s_{40}\\right], \\left(0, 1\\right), \\left[s_{38,2} + s_{37,3} + s_{28,12} + s_{27,13} - s_{21,19}\\right], \\left(0, 2\\right), \\left[s_{36,4} + s_{35,5} + s_{34,6} + s_{27,13} + s_{26,14} + s_{25,15} + s_{24,16} - s_{23,17} - s_{22,18}\\right], \\left(0, 3\\right), \\left[s_{34,6} + s_{33,7} + s_{32,8} + s_{31,9} + s_{26,14} + s_{22,18} + s_{21,19}\\right], \\left(0, 4\\right), \\left[s_{32,8} + s_{31,9} + s_{30,10} + s_{29,11} + s_{28,12} - s_{27,13} - s_{26,14} + s_{23,17} + s_{22,18}\\right], \\left(0, 5\\right), \\left[s_{30,10}\\right], \\left(1, 0\\right), \\left[s_{36,4}\\right], \\left(1, 1\\right), \\left[s_{34,6} + s_{33,7} + s_{26,14} + s_{25,15} - s_{21,19}\\right], \\left(1, 2\\right), \\left[s_{32,8} + s_{31,9} + s_{30,10} + s_{25,15} + s_{24,16}\\right], \\left(1, 3\\right), \\left[s_{30,10} + s_{29,11} + s_{28,12} + s_{27,13} - s_{25,15} + s_{22,18} + s_{21,19}\\right], \\left(1, 4\\right), \\left[s_{28,12}\\right], \\left(2, 0\\right), \\left[s_{32,8}\\right], \\left(2, 1\\right), \\left[s_{30,10} + s_{29,11} + s_{24,16} + s_{23,17} - s_{21,19}\\right], \\left(2, 2\\right), \\left[s_{28,12} + s_{27,13} + s_{26,14} + s_{21,19} + s_{20,20}\\right], \\left(2, 3\\right), \\left[s_{26,14}\\right], \\left(3, 0\\right), \\left[s_{28,12}\\right], \\left(3, 1\\right), \\left[s_{26,14} + s_{25,15} + s_{22,18}\\right], \\left(3, 2\\right), \\left[s_{24,16}\\right], \\left(4, 0\\right), \\left[s_{24,16}\\right], \\left(4, 1\\right), \\left[s_{22,18}\\right], \\left(5, 0\\right), \\left[s_{20,20}\\right]\\right]$"
      ],
      "text/plain": [
       "[(0, 0),\n",
       " [s[40]],\n",
       " (0, 1),\n",
       " [s[38, 2] + s[37, 3] + s[28, 12] + s[27, 13] - s[21, 19]],\n",
       " (0, 2),\n",
       " [s[36, 4] + s[35, 5] + s[34, 6] + s[27, 13] + s[26, 14] + s[25, 15] + s[24, 16] - s[23, 17] - s[22, 18]],\n",
       " (0, 3),\n",
       " [s[34, 6] + s[33, 7] + s[32, 8] + s[31, 9] + s[26, 14] + s[22, 18] + s[21, 19]],\n",
       " (0, 4),\n",
       " [s[32, 8] + s[31, 9] + s[30, 10] + s[29, 11] + s[28, 12] - s[27, 13] - s[26, 14] + s[23, 17] + s[22, 18]],\n",
       " (0, 5),\n",
       " [s[30, 10]],\n",
       " (1, 0),\n",
       " [s[36, 4]],\n",
       " (1, 1),\n",
       " [s[34, 6] + s[33, 7] + s[26, 14] + s[25, 15] - s[21, 19]],\n",
       " (1, 2),\n",
       " [s[32, 8] + s[31, 9] + s[30, 10] + s[25, 15] + s[24, 16]],\n",
       " (1, 3),\n",
       " [s[30, 10] + s[29, 11] + s[28, 12] + s[27, 13] - s[25, 15] + s[22, 18] + s[21, 19]],\n",
       " (1, 4),\n",
       " [s[28, 12]],\n",
       " (2, 0),\n",
       " [s[32, 8]],\n",
       " (2, 1),\n",
       " [s[30, 10] + s[29, 11] + s[24, 16] + s[23, 17] - s[21, 19]],\n",
       " (2, 2),\n",
       " [s[28, 12] + s[27, 13] + s[26, 14] + s[21, 19] + s[20, 20]],\n",
       " (2, 3),\n",
       " [s[26, 14]],\n",
       " (3, 0),\n",
       " [s[28, 12]],\n",
       " (3, 1),\n",
       " [s[26, 14] + s[25, 15] + s[22, 18]],\n",
       " (3, 2),\n",
       " [s[24, 16]],\n",
       " (4, 0),\n",
       " [s[24, 16]],\n",
       " (4, 1),\n",
       " [s[22, 18]],\n",
       " (5, 0),\n",
       " [s[20, 20]]]"
      ]
     },
     "execution_count": 114,
     "metadata": {},
     "output_type": "execute_result"
    }
   ],
   "source": [
    "CoefChainsAux(10)"
   ]
  },
  {
   "cell_type": "code",
   "execution_count": null,
   "id": "bebff09a",
   "metadata": {},
   "outputs": [],
   "source": []
  }
 ],
 "metadata": {
  "kernelspec": {
   "display_name": "SageMath 9.7",
   "language": "sage",
   "name": "sagemath-9.7"
  },
  "language_info": {
   "codemirror_mode": {
    "name": "ipython",
    "version": 3
   },
   "file_extension": ".py",
   "mimetype": "text/x-python",
   "name": "python",
   "nbconvert_exporter": "python",
   "pygments_lexer": "ipython3",
   "version": "3.10.5"
  }
 },
 "nbformat": 4,
 "nbformat_minor": 5
}
