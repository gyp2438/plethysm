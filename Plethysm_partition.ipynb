{
 "cells": [
  {
   "cell_type": "code",
   "execution_count": 1,
   "metadata": {},
   "outputs": [],
   "source": [
    "from sage.combinat.q_analogues import *\n",
    "from sage.combinat.sf.sfa import *\n",
    "from itertools import product\n",
    "from itertools import combinations_with_replacement\n",
    "from collections import Counter\n",
    "#from tabulate import tabulate\n",
    "import pprint"
   ]
  },
  {
   "cell_type": "code",
   "execution_count": 4,
   "metadata": {},
   "outputs": [
    {
     "data": {
      "text/plain": [
       "True"
      ]
     },
     "execution_count": 4,
     "metadata": {},
     "output_type": "execute_result"
    }
   ],
   "source": [
    "a= 2\n",
    "d= 6\n",
    "b= 3\n",
    "c= 4\n",
    "a*d == b*c"
   ]
  },
  {
   "cell_type": "code",
   "execution_count": 8,
   "metadata": {},
   "outputs": [],
   "source": [
    "#buildingn h_ad\n",
    "#max length of d and min length of c+1\n",
    "\n",
    "h_ad = {}\n",
    "h_bc = {}\n",
    "for k in range(c+1, a*d):\n",
    "    h_ad[k] = Partitions(k,max_part = a, max_length=d, min_length=c+1).list()\n",
    "    h_bc[k] = Partitions(k,max_part = c, max_length = b, min_length= a+1).list()\n",
    "\n"
   ]
  },
  {
   "cell_type": "code",
   "execution_count": 24,
   "metadata": {},
   "outputs": [
    {
     "name": "stdout",
     "output_type": "stream",
     "text": [
      "⎡ ┌┐ ⎤\n",
      "⎢ ├┤ ⎥\n",
      "⎢ ├┤ ⎥⎡ ┌┬┬┐  ┌┬┐ ⎤\n",
      "⎢ ├┤ ⎥⎢ ├┼┴┘  ├┼┤ ⎥\n",
      "⎢ ├┤ ⎥⎢ ├┤    ├┼┘ ⎥\n",
      "⎣ └┘ ⎦⎣ └┘  , └┘  ⎦\n",
      "⎡      ┌┐ ⎤\n",
      "⎢ ┌┬┐  ├┤ ⎥\n",
      "⎢ ├┼┘  ├┤ ⎥\n",
      "⎢ ├┤   ├┤ ⎥⎡ ┌┬┬┬┐  ┌┬┬┐  ┌┬┐ ⎤\n",
      "⎢ ├┤   ├┤ ⎥⎢ ├┼┴┴┘  ├┼┼┘  ├┼┤ ⎥\n",
      "⎢ ├┤   ├┤ ⎥⎢ ├┤     ├┼┘   ├┼┤ ⎥\n",
      "⎣ └┘ , └┘ ⎦⎣ └┘   , └┘  , └┴┘ ⎦\n",
      "⎡      ┌┬┐ ⎤\n",
      "⎢ ┌┬┐  ├┼┘ ⎥\n",
      "⎢ ├┼┤  ├┤  ⎥\n",
      "⎢ ├┼┘  ├┤  ⎥⎡ ┌┬┬┬┐  ┌┬┬┐  ┌┬┬┐ ⎤\n",
      "⎢ ├┤   ├┤  ⎥⎢ ├┼┼┴┘  ├┼┼┤  ├┼┼┘ ⎥\n",
      "⎢ ├┤   ├┤  ⎥⎢ ├┼┘    ├┼┴┘  ├┼┤  ⎥\n",
      "⎣ └┘ , └┘  ⎦⎣ └┘   , └┘  , └┴┘  ⎦\n",
      "⎡      ┌┬┐ ⎤\n",
      "⎢ ┌┬┐  ├┼┤ ⎥\n",
      "⎢ ├┼┤  ├┼┘ ⎥\n",
      "⎢ ├┼┤  ├┤  ⎥⎡ ┌┬┬┬┐  ┌┬┬┬┐  ┌┬┬┐ ⎤\n",
      "⎢ ├┼┘  ├┤  ⎥⎢ ├┼┼┼┘  ├┼┼┴┘  ├┼┼┤ ⎥\n",
      "⎢ ├┤   ├┤  ⎥⎢ ├┼┴┘   ├┼┤    ├┼┼┘ ⎥\n",
      "⎣ └┘ , └┘  ⎦⎣ └┘   , └┴┘  , └┴┘  ⎦\n",
      "⎡      ┌┬┐ ⎤\n",
      "⎢ ┌┬┐  ├┼┤ ⎥\n",
      "⎢ ├┼┤  ├┼┤ ⎥\n",
      "⎢ ├┼┤  ├┼┘ ⎥⎡ ┌┬┬┬┐  ┌┬┬┬┐  ┌┬┬┐ ⎤\n",
      "⎢ ├┼┤  ├┤  ⎥⎢ ├┼┼┼┤  ├┼┼┼┘  ├┼┼┤ ⎥\n",
      "⎢ ├┼┘  ├┤  ⎥⎢ ├┼┴┴┘  ├┼┼┘   ├┼┼┤ ⎥\n",
      "⎣ └┘ , └┘  ⎦⎣ └┘   , └┴┘  , └┴┴┘ ⎦\n",
      "⎡      ┌┬┐ ⎤\n",
      "⎢ ┌┬┐  ├┼┤ ⎥\n",
      "⎢ ├┼┤  ├┼┤ ⎥\n",
      "⎢ ├┼┤  ├┼┤ ⎥⎡ ┌┬┬┬┐  ┌┬┬┬┐ ⎤\n",
      "⎢ ├┼┤  ├┼┘ ⎥⎢ ├┼┼┼┤  ├┼┼┼┘ ⎥\n",
      "⎢ ├┼┤  ├┤  ⎥⎢ ├┼┼┴┘  ├┼┼┤  ⎥\n",
      "⎣ └┴┘, └┘  ⎦⎣ └┴┘  , └┴┴┘  ⎦\n",
      "⎡ ┌┬┐ ⎤\n",
      "⎢ ├┼┤ ⎥\n",
      "⎢ ├┼┤ ⎥\n",
      "⎢ ├┼┤ ⎥⎡ ┌┬┬┬┐ ⎤\n",
      "⎢ ├┼┤ ⎥⎢ ├┼┼┼┤ ⎥\n",
      "⎢ ├┼┘ ⎥⎢ ├┼┼┼┘ ⎥\n",
      "⎣ └┘  ⎦⎣ └┴┴┘  ⎦\n"
     ]
    }
   ],
   "source": [
    "for k in range(c+1,a*d):\n",
    "    print(unicode_art(h_ad[k], h_bc[k]))"
   ]
  },
  {
   "cell_type": "code",
   "execution_count": 20,
   "metadata": {},
   "outputs": [
    {
     "data": {
      "text/plain": [
       "⎡ ┌┬┬┬┐  ┌┬┬┬┐  ┌┬┬┐ ⎤\n",
       "⎢ ├┼┼┼┘  ├┼┼┴┘  ├┼┼┤ ⎥\n",
       "⎢ ├┼┴┘   ├┼┤    ├┼┼┘ ⎥\n",
       "⎣ └┘   , └┴┘  , └┴┘  ⎦"
      ]
     },
     "execution_count": 20,
     "metadata": {},
     "output_type": "execute_result"
    }
   ],
   "source": [
    "unicode_art(h_bc[8])"
   ]
  },
  {
   "cell_type": "code",
   "execution_count": 16,
   "metadata": {},
   "outputs": [
    {
     "data": {
      "text/plain": [
       "┌┬┐\n",
       "├┼┤\n",
       "├┼┤\n",
       "├┼┘\n",
       "├┤\n",
       "└┘"
      ]
     },
     "execution_count": 16,
     "metadata": {},
     "output_type": "execute_result"
    }
   ],
   "source": [
    "unicode_art(h_ad[8][0])"
   ]
  },
  {
   "cell_type": "code",
   "execution_count": null,
   "metadata": {},
   "outputs": [],
   "source": []
  }
 ],
 "metadata": {
  "kernelspec": {
   "display_name": "SageMath 8.8",
   "language": "sage",
   "name": "sagemath"
  },
  "language_info": {
   "codemirror_mode": {
    "name": "ipython",
    "version": 3
   },
   "file_extension": ".py",
   "mimetype": "text/x-python",
   "name": "python",
   "nbconvert_exporter": "python",
   "pygments_lexer": "ipython3",
   "version": "3.7.3"
  }
 },
 "nbformat": 4,
 "nbformat_minor": 4
}
