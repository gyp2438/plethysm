{
 "cells": [
  {
   "cell_type": "code",
   "execution_count": 81,
   "metadata": {},
   "outputs": [],
   "source": [
    "from itertools import product\n",
    "from itertools import combinations\n",
    "from numpy import unique"
   ]
  },
  {
   "cell_type": "code",
   "execution_count": 82,
   "metadata": {},
   "outputs": [],
   "source": [
    "# n=3\n",
    "# q=2\n",
    "# FF = GF(q)\n",
    "# so = FF.cardinality()^n-1\n",
    "# thm = (FF.cardinality()^n-1)^(n-1)\n",
    "# G = GL(n, FF)\n",
    "# M = MatrixSpace(FF,n,n)\n",
    "# V = VectorSpace(FF,n)\n",
    "# nq=gaussian_binomial(n,1,q=q)"
   ]
  },
  {
   "cell_type": "code",
   "execution_count": 83,
   "metadata": {},
   "outputs": [],
   "source": [
    "#General structure/setting of GL(n,q)\n",
    "\n",
    "\n",
    "#generate all hyperplanes of gl(n,q)\n",
    "#output as a simple matrix\n",
    "def get_hyperplanes(n,q): \n",
    "    FF = GF(q)\n",
    "    H = []\n",
    "    for i in range(n):\n",
    "        h = matrix(FF,n-1,n)\n",
    "        for j in range(n):\n",
    "            if j<i:\n",
    "                h[j,j] = 1\n",
    "            if j>i:\n",
    "                h[j-1,j] = 1\n",
    "        if i >0:\n",
    "            comblist = [p for p in product(GF(q), repeat=i)]\n",
    "            num = len(comblist)\n",
    "            for k in range(num):\n",
    "                b = h\n",
    "                v = comblist[k]\n",
    "                for l in range(i):\n",
    "                    b[l,i] = v[l]\n",
    "                H.append(copy(b))\n",
    "        else: H.append(h)\n",
    "    return H\n",
    "\n",
    "#generate all reflections\n",
    "#input n,q and the determinant\n",
    "def is_reflection(g):\n",
    "    q=order(g.base_ring())\n",
    "    n=(g.matrix()).nrows()\n",
    "    G=GL(n,GF(q))\n",
    "    M = g.matrix() - (G[0]^0).matrix()\n",
    "    KM = M.kernel()\n",
    "    return KM.dimension() == n-1\n",
    "\n",
    "\n",
    "def get_refls(n,q,a): #find all reflections in a list\n",
    "    R = []\n",
    "    FF = GF(q)\n",
    "    G = GL(n, FF)\n",
    "    M = MatrixSpace(FF,n,n)\n",
    "    for g in G:\n",
    "        m = g.matrix() - (G[0]^0).matrix()\n",
    "        KM = m.kernel()\n",
    "        if KM.dimension() == n-1 and M(g).determinant() == a:\n",
    "            R.append(g)\n",
    "    return R\n",
    "\n",
    "#gives the hyperplane the reflection element g fixes\n",
    "def find_hyperplane(g):\n",
    "    q=order(g.base_ring())\n",
    "    n=(g.matrix()).nrows()\n",
    "    G=GL(n,GF(q))\n",
    "    M = g.matrix() - (G[0]^0).matrix()\n",
    "    m = kernel(M)\n",
    "    return m.matrix()\n",
    "\n"
   ]
  },
  {
   "cell_type": "code",
   "execution_count": 151,
   "metadata": {},
   "outputs": [],
   "source": [
    "#Jucys-Murphy\n",
    "#But this needs to change!\n",
    "\n",
    "def JM(n,q,a):\n",
    "    FF = GF(q)\n",
    "    G = GL(n, FF)\n",
    "    M = MatrixSpace(FF,n,n)\n",
    "    m=matrix(n-1,n)\n",
    "    for i in range(n-1):\n",
    "        m[i,i]=1\n",
    "    hyp = m\n",
    "    ide = zero_vector(n)\n",
    "    ide[-1] = 1\n",
    "    JM_list = []\n",
    "    for r in G:\n",
    "        if is_reflection(r) and M(r).determinant() == a:\n",
    "            if matrix(r)[-1]== ide and matrix(r).transpose()[-1] == ide:\n",
    "                JM_list.append(r)\n",
    "    return JM_list\n",
    "    "
   ]
  },
  {
   "cell_type": "code",
   "execution_count": null,
   "metadata": {},
   "outputs": [],
   "source": []
  },
  {
   "cell_type": "code",
   "execution_count": 121,
   "metadata": {},
   "outputs": [],
   "source": [
    "R=get_refls(3,2,1)"
   ]
  },
  {
   "cell_type": "code",
   "execution_count": 136,
   "metadata": {},
   "outputs": [
    {
     "data": {
      "text/plain": [
       "[\n",
       "[0 0 1]  [0 0 1]  [0 1 0]  [0 1 0]  [0 1 1]  [0 1 1]  [1 0 0]  [1 0 0]\n",
       "[0 1 0]  [1 1 1]  [1 0 0]  [1 0 0]  [0 1 0]  [1 0 1]  [0 0 1]  [0 1 0]\n",
       "[1 0 0], [1 0 0], [0 0 1], [1 1 1], [1 1 0], [0 0 1], [0 1 0], [0 1 1],\n",
       "\n",
       "[1 0 0]  [1 0 0]  [1 0 0]  [1 0 0]  [1 0 0]  [1 0 0]  [1 0 0]  [1 0 1]\n",
       "[0 1 0]  [0 1 0]  [0 1 1]  [1 0 1]  [1 1 0]  [1 1 0]  [1 1 1]  [0 1 0]\n",
       "[1 0 1], [1 1 1], [0 0 1], [1 1 0], [0 0 1], [1 0 1], [0 0 1], [0 0 1],\n",
       "\n",
       "[1 0 1]  [1 1 0]  [1 1 0]  [1 1 1]  [1 1 1]\n",
       "[0 1 1]  [0 1 0]  [0 1 0]  [0 0 1]  [0 1 0]\n",
       "[0 0 1], [0 0 1], [0 1 1], [0 1 0], [0 0 1]\n",
       "]"
      ]
     },
     "execution_count": 136,
     "metadata": {},
     "output_type": "execute_result"
    }
   ],
   "source": [
    "R"
   ]
  },
  {
   "cell_type": "code",
   "execution_count": 155,
   "metadata": {},
   "outputs": [
    {
     "data": {
      "text/plain": [
       "[\n",
       "[0 1 0]  [0 2 0]  [1 0 0]  [1 0 0]  [1 1 0]  [1 2 0]  [2 1 0]  [2 2 0]\n",
       "[2 2 0]  [1 2 0]  [1 1 0]  [2 1 0]  [0 1 0]  [0 1 0]  [2 0 0]  [1 0 0]\n",
       "[0 0 1], [0 0 1], [0 0 1], [0 0 1], [0 0 1], [0 0 1], [0 0 1], [0 0 1]\n",
       "]"
      ]
     },
     "execution_count": 155,
     "metadata": {},
     "output_type": "execute_result"
    }
   ],
   "source": [
    "#JM element of (n,q,det) = (3,3,1)\n",
    "JM(3,3,1)"
   ]
  },
  {
   "cell_type": "code",
   "execution_count": null,
   "metadata": {},
   "outputs": [],
   "source": []
  },
  {
   "cell_type": "code",
   "execution_count": null,
   "metadata": {},
   "outputs": [],
   "source": []
  },
  {
   "cell_type": "code",
   "execution_count": null,
   "metadata": {},
   "outputs": [],
   "source": []
  },
  {
   "cell_type": "code",
   "execution_count": null,
   "metadata": {},
   "outputs": [],
   "source": []
  },
  {
   "cell_type": "code",
   "execution_count": 76,
   "metadata": {},
   "outputs": [],
   "source": []
  },
  {
   "cell_type": "code",
   "execution_count": null,
   "metadata": {},
   "outputs": [],
   "source": []
  },
  {
   "cell_type": "code",
   "execution_count": null,
   "metadata": {},
   "outputs": [],
   "source": []
  },
  {
   "cell_type": "code",
   "execution_count": null,
   "metadata": {},
   "outputs": [],
   "source": []
  },
  {
   "cell_type": "code",
   "execution_count": null,
   "metadata": {},
   "outputs": [],
   "source": []
  },
  {
   "cell_type": "code",
   "execution_count": null,
   "metadata": {},
   "outputs": [],
   "source": []
  },
  {
   "cell_type": "code",
   "execution_count": null,
   "metadata": {},
   "outputs": [],
   "source": []
  }
 ],
 "metadata": {
  "kernelspec": {
   "display_name": "SageMath 8.8",
   "language": "sage",
   "name": "sagemath"
  },
  "language_info": {
   "codemirror_mode": {
    "name": "ipython",
    "version": 3
   },
   "file_extension": ".py",
   "mimetype": "text/x-python",
   "name": "python",
   "nbconvert_exporter": "python",
   "pygments_lexer": "ipython3",
   "version": "3.7.3"
  }
 },
 "nbformat": 4,
 "nbformat_minor": 4
}
