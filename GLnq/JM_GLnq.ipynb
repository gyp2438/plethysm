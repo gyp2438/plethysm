{
 "cells": [
  {
   "cell_type": "code",
   "execution_count": 1,
   "metadata": {},
   "outputs": [],
   "source": [
    "from itertools import product\n",
    "from itertools import combinations\n",
    "from numpy import unique"
   ]
  },
  {
   "cell_type": "code",
   "execution_count": 2,
   "metadata": {},
   "outputs": [],
   "source": [
    "# n=3\n",
    "# q=2\n",
    "# FF = GF(q)\n",
    "# so = FF.cardinality()^n-1\n",
    "# thm = (FF.cardinality()^n-1)^(n-1)\n",
    "# G = GL(n, FF)\n",
    "# M = MatrixSpace(FF,n,n)\n",
    "# V = VectorSpace(FF,n)\n",
    "# nq=gaussian_binomial(n,1,q=q)"
   ]
  },
  {
   "cell_type": "code",
   "execution_count": 3,
   "metadata": {},
   "outputs": [],
   "source": [
    "#General structure/setting of GL(n,q)\n",
    "\n",
    "\n",
    "#generate all hyperplanes of gl(n,q)\n",
    "#output as a simple matrix\n",
    "def get_hyperplanes(n,q): \n",
    "    FF = GF(q)\n",
    "    H = []\n",
    "    for i in range(n):\n",
    "        h = matrix(FF,n-1,n)\n",
    "        for j in range(n):\n",
    "            if j<i:\n",
    "                h[j,j] = 1\n",
    "            if j>i:\n",
    "                h[j-1,j] = 1\n",
    "        if i >0:\n",
    "            comblist = [p for p in product(GF(q), repeat=i)]\n",
    "            num = len(comblist)\n",
    "            for k in range(num):\n",
    "                b = h\n",
    "                v = comblist[k]\n",
    "                for l in range(i):\n",
    "                    b[l,i] = v[l]\n",
    "                H.append(copy(b))\n",
    "        else: H.append(h)\n",
    "    return H\n",
    "\n",
    "#generate all reflections\n",
    "#input n,q and the determinant\n",
    "def is_reflection(g):\n",
    "    q=order(g.base_ring())\n",
    "    n=(g.matrix()).nrows()\n",
    "    G=GL(n,GF(q))\n",
    "    M = g.matrix() - (G[0]^0).matrix()\n",
    "    KM = M.kernel()\n",
    "    return KM.dimension() == n-1\n",
    "\n",
    "\n",
    "def get_refls(n,q,a): #find all reflections in a list\n",
    "    R = []\n",
    "    FF = GF(q)\n",
    "    G = GL(n, FF)\n",
    "    M = MatrixSpace(FF,n,n)\n",
    "    for g in G:\n",
    "        m = g.matrix() - (G[0]^0).matrix()\n",
    "        KM = m.kernel()\n",
    "        if KM.dimension() == n-1 and M(g).determinant() == a:\n",
    "            R.append(g)\n",
    "    return R\n",
    "\n",
    "#gives the hyperplane the reflection element g fixes\n",
    "def find_hyperplane(g):\n",
    "    q=order(g.base_ring())\n",
    "    n=(g.matrix()).nrows()\n",
    "    G=GL(n,GF(q))\n",
    "    M = g.matrix() - (G[0]^0).matrix()\n",
    "    m = kernel(M)\n",
    "    return m.matrix()\n",
    "\n"
   ]
  },
  {
   "cell_type": "code",
   "execution_count": 12,
   "metadata": {},
   "outputs": [],
   "source": [
    "#Jucys-Murphy\n",
    "#But this needs to change!\n",
    "\n",
    "def JM(n,q,a):\n",
    "    FF = GF(q)\n",
    "    G = GL(n, FF)\n",
    "    M = MatrixSpace(FF,n,n)\n",
    "    m=matrix(n-1,n)\n",
    "    for i in range(n-1):\n",
    "        m[i,i]=1\n",
    "    hyp = m\n",
    "    ide = zero_vector(n)\n",
    "    ide[-1] = 1\n",
    "    JM_list = []\n",
    "    for r in G:\n",
    "        if is_reflection(r) and M(r).determinant() == a:\n",
    "            if matrix(r)[-1]!= ide or matrix(r).transpose()[-1] != ide:\n",
    "                JM_list.append(r)\n",
    "    return JM_list\n",
    "\n",
    "def JM_int(n,q,a):\n",
    "    FF = GF(q)\n",
    "    G = GL(n, FF)\n",
    "    M = MatrixSpace(FF,n,n)\n",
    "    m=matrix(n-1,n)\n",
    "    for i in range(n-1):\n",
    "        m[i,i]=1\n",
    "    hyp = m\n",
    "    ide = zero_vector(n)\n",
    "    ide[-1] = 1\n",
    "    JM_list = []\n",
    "    for r in G:\n",
    "        if is_reflection(r) and M(r).determinant() == a:\n",
    "            if matrix(r)[-1]== ide and matrix(r).transpose()[-1] != ide:\n",
    "                JM_list.append(r)\n",
    "    return JM_list\n",
    "    "
   ]
  },
  {
   "cell_type": "code",
   "execution_count": 13,
   "metadata": {},
   "outputs": [
    {
     "data": {
      "text/plain": [
       "[\n",
       "[1 0 0]  [1 1 0]  [1 0 0]  [1 1 0]  [1 0 0]  [1 1 1]  [1 0 0]  [1 0 0]\n",
       "[0 1 0]  [0 1 0]  [1 0 1]  [0 1 0]  [0 1 0]  [0 0 1]  [0 1 0]  [0 1 1]\n",
       "[1 0 1], [0 1 1], [1 1 0], [0 0 1], [1 1 1], [0 1 0], [0 1 1], [0 0 1],\n",
       "\n",
       "[0 0 1]  [1 0 1]  [0 1 0]  [0 1 0]  [0 0 1]  [1 0 0]  [1 0 0]  [1 1 1]\n",
       "[1 1 1]  [0 1 0]  [1 0 0]  [1 0 0]  [0 1 0]  [0 0 1]  [1 1 1]  [0 1 0]\n",
       "[1 0 0], [0 0 1], [1 1 1], [0 0 1], [1 0 0], [0 1 0], [0 0 1], [0 0 1],\n",
       "\n",
       "[1 0 0]  [1 0 0]  [0 1 1]  [0 1 1]  [1 0 1]\n",
       "[1 1 0]  [1 1 0]  [0 1 0]  [1 0 1]  [0 1 1]\n",
       "[0 0 1], [1 0 1], [1 1 0], [0 0 1], [0 0 1]\n",
       "]"
      ]
     },
     "execution_count": 13,
     "metadata": {},
     "output_type": "execute_result"
    }
   ],
   "source": [
    "get_refls(3,2,1)"
   ]
  },
  {
   "cell_type": "code",
   "execution_count": 14,
   "metadata": {},
   "outputs": [
    {
     "data": {
      "text/plain": [
       "[\n",
       "[1 0 0]  [1 1 0]  [1 0 0]  [1 0 0]  [1 1 1]  [1 0 0]  [1 0 0]  [0 0 1]\n",
       "[0 1 0]  [0 1 0]  [1 0 1]  [0 1 0]  [0 0 1]  [0 1 0]  [0 1 1]  [1 1 1]\n",
       "[1 0 1], [0 1 1], [1 1 0], [1 1 1], [0 1 0], [0 1 1], [0 0 1], [1 0 0],\n",
       "\n",
       "[1 0 1]  [0 1 0]  [0 0 1]  [1 0 0]  [1 0 0]  [1 1 1]  [1 0 0]  [0 1 1]\n",
       "[0 1 0]  [1 0 0]  [0 1 0]  [0 0 1]  [1 1 1]  [0 1 0]  [1 1 0]  [0 1 0]\n",
       "[0 0 1], [1 1 1], [1 0 0], [0 1 0], [0 0 1], [0 0 1], [1 0 1], [1 1 0],\n",
       "\n",
       "[0 1 1]  [1 0 1]\n",
       "[1 0 1]  [0 1 1]\n",
       "[0 0 1], [0 0 1]\n",
       "]"
      ]
     },
     "execution_count": 14,
     "metadata": {},
     "output_type": "execute_result"
    }
   ],
   "source": [
    "JM(3,2,1)"
   ]
  },
  {
   "cell_type": "code",
   "execution_count": 15,
   "metadata": {},
   "outputs": [
    {
     "data": {
      "text/plain": [
       "[\n",
       "[1 0 0]  [1 0 1]  [1 0 0]  [1 1 1]  [0 1 1]  [1 0 1]\n",
       "[0 1 1]  [0 1 0]  [1 1 1]  [0 1 0]  [1 0 1]  [0 1 1]\n",
       "[0 0 1], [0 0 1], [0 0 1], [0 0 1], [0 0 1], [0 0 1]\n",
       "]"
      ]
     },
     "execution_count": 15,
     "metadata": {},
     "output_type": "execute_result"
    }
   ],
   "source": [
    "JM_int(3,2,1)"
   ]
  },
  {
   "attachments": {},
   "cell_type": "markdown",
   "metadata": {},
   "source": [
    "**# Scott Andrews unipotent modules construction**"
   ]
  },
  {
   "cell_type": "code",
   "execution_count": 5,
   "metadata": {},
   "outputs": [],
   "source": [
    "#testing out for n=2 q=2\n",
    "#set up\n",
    "n=4\n",
    "q=2"
   ]
  },
  {
   "cell_type": "code",
   "execution_count": 6,
   "metadata": {},
   "outputs": [],
   "source": [
    "FF = GF(q)\n",
    "G = GL(n, FF)\n",
    "M = MatrixSpace(FF,n,n)\n",
    "V = VectorSpace(FF,n)"
   ]
  },
  {
   "cell_type": "code",
   "execution_count": 7,
   "metadata": {},
   "outputs": [],
   "source": [
    "#build elementary vectors to extract basis from each element in G\n",
    "#This is techinically overproducing because order matters and may be unnecessary. I'm still unsure about these ordered basis consturction\n",
    "\n",
    "e_list=[]\n",
    "for i in range(n):\n",
    "    e = zero_vector(n)\n",
    "    e[i] = 1\n",
    "    e_list.append(e)\n",
    "e_list\n",
    "\n",
    "#the list of all ordered basis, where the first one is the standared ordered basis\n",
    "ordered_basis=[]\n",
    "for g in G.list():\n",
    "    b=[]\n",
    "    for e in e_list:\n",
    "        b.append(g*e)\n",
    "    ordered_basis.append(b)\n",
    "\n",
    "standard = ordered_basis[0]"
   ]
  },
  {
   "cell_type": "code",
   "execution_count": 9,
   "metadata": {},
   "outputs": [
    {
     "data": {
      "text/plain": [
       "[(1, 0, 0, 0), (0, 1, 0, 0), (0, 0, 1, 0), (0, 0, 0, 1)]"
      ]
     },
     "execution_count": 9,
     "metadata": {},
     "output_type": "execute_result"
    }
   ],
   "source": [
    "standard"
   ]
  },
  {
   "cell_type": "code",
   "execution_count": 8,
   "metadata": {},
   "outputs": [
    {
     "data": {
      "text/plain": [
       "[3, 1]"
      ]
     },
     "execution_count": 8,
     "metadata": {},
     "output_type": "execute_result"
    }
   ],
   "source": [
    "#Choose your lambda\n",
    "lam_list = Partitions(n).list()\n",
    "lam = lam_list[1]\n",
    "lam"
   ]
  },
  {
   "attachments": {},
   "cell_type": "markdown",
   "metadata": {},
   "source": [
    "Building U(T) and P(T)"
   ]
  },
  {
   "cell_type": "code",
   "execution_count": null,
   "metadata": {},
   "outputs": [],
   "source": [
    "\n",
    "#input: a partition, output:[cell, vector] \n",
    "#one is in just a simple list of list and one is in dictionary. Just learned about dictionary and playing around with it\n",
    "\n",
    "def basis1(T):\n",
    "    tab = []\n",
    "    b = ordered_basis[0]\n",
    "    cell = T.cells()\n",
    "    for i in range(n):\n",
    "        tab.append([cell[i],b[i]])\n",
    "    return tab\n",
    "\n",
    "def basis_dict(T):\n",
    "    test = {}\n",
    "    b = ordered_basis[0]\n",
    "    cell = T.cells()\n",
    "    for i in range(n):\n",
    "        vec = tuple(b[i])\n",
    "        test[vec] = cell[i]\n",
    "    return test\n",
    "\n",
    "#Now i have a newn code here, putting in an order on a set of basis and also building a column reading tableau\n",
    "\n",
    "def basis(v):\n",
    "    b = {}\n",
    "    for i in range(n):\n",
    "        b[f\"v{i+1}\"] = v[i]\n",
    "    return b\n",
    "\n",
    "def tab(lam):\n",
    "    l = {}\n",
    "    T = lam.initial_column_tableau()\n",
    "    for i in range(n):\n",
    "        t = T.cells_containing(i+1)\n",
    "        l[f\"v{i+1}\"] = t[0]\n",
    "    return l\n",
    "    "
   ]
  },
  {
   "cell_type": "code",
   "execution_count": null,
   "metadata": {},
   "outputs": [],
   "source": [
    "d=basis_dict(lam)\n",
    "b= basis(standard) #but can choose a different set of basis here as well\n",
    "T = tab(lam)\n",
    "cell = lam.cells()\n",
    "\n",
    "span_left=[]\n",
    "for i in range(1,n+1):\n",
    "    #vi= tuple(i)\n",
    "    sp=[]\n",
    "    for j in range(1,n+1):\n",
    "        #vj= tuple(j)\n",
    "        if T[f\"v{j}\"][1]<T[f\"v{i}\"][1]:\n",
    "            sp.append(b[f\"v{j}\"])\n",
    "    if sp == []:\n",
    "        sp = [zero_vector(n)]\n",
    "\n",
    "    Sp = span(sp,FF)\n",
    "    span_left.append(Sp)\n",
    "\n",
    "span_right=[]\n",
    "for i in range(1,n+1):\n",
    "    #vi= tuple(i)\n",
    "    sp=[]\n",
    "    for j in range(1,n+1):\n",
    "        #vj= tuple(j)\n",
    "        if T[f\"v{j}\"][1]>=T[f\"v{i}\"][1]:\n",
    "            sp.append(b[f\"v{j}\"])\n",
    "    if sp == []:\n",
    "        sp = [zero_vector(n)]\n",
    "\n",
    "    Sp = span(sp,FF)\n",
    "    span_right.append(Sp)\n",
    "\n",
    "\n",
    "#This takes a long time as well because we have to go through all g in G. \n",
    "# If we only care about the ones from the standard basis and can generate the rest from the standard U and T\n",
    "# Or even understand it enough to know which ones to care about, then we can definitely make it faster\n",
    "\n",
    "U=[]\n",
    "for g in G:\n",
    "    booelan_list=[]\n",
    "    for i in range(1,n+1):\n",
    "        #vi = ordered_basis[0][i]\n",
    "        if g*b[f\"v{i}\"] - b[f\"v{i}\"]  in span_left[i-1]:\n",
    "            booelan_list.append(True)\n",
    "        else:\n",
    "            booelan_list.append(False)\n",
    "    if all(booelan_list):\n",
    "        U.append(g)\n",
    "\n",
    "\n",
    "P=[]\n",
    "for g in G:\n",
    "    booelan_list=[]\n",
    "    for i in range(1,n+1):\n",
    "        #vi = ordered_basis[0][i]\n",
    "        if g*b[f\"v{i}\"] in span_right[i-1]:\n",
    "            booelan_list.append(True)\n",
    "        else:\n",
    "            booelan_list.append(False)\n",
    "    if all(booelan_list):\n",
    "        P.append(g)\n"
   ]
  },
  {
   "cell_type": "code",
   "execution_count": null,
   "metadata": {},
   "outputs": [],
   "source": [
    "U;\n",
    "P;"
   ]
  },
  {
   "cell_type": "code",
   "execution_count": 431,
   "metadata": {},
   "outputs": [],
   "source": [
    "#Building X(T)\n",
    "#output given in (i,j)\n",
    "X=[]\n",
    "for i in range(1,n+1):\n",
    "    for j in range(1,n+1):\n",
    "        if T[f\"v{i}\"][0] == T[f\"v{j}\"][0] and T[f\"v{i}\"][1]<T[f\"v{j}\"][1]:\n",
    "            X.append([i,j])\n",
    "            break"
   ]
  },
  {
   "cell_type": "code",
   "execution_count": 432,
   "metadata": {},
   "outputs": [
    {
     "data": {
      "text/plain": [
       "[[1, 3], [3, 4]]"
      ]
     },
     "execution_count": 432,
     "metadata": {},
     "output_type": "execute_result"
    }
   ],
   "source": [
    "X"
   ]
  },
  {
   "attachments": {},
   "cell_type": "markdown",
   "metadata": {},
   "source": [
    "Building m_T and e_T"
   ]
  },
  {
   "cell_type": "code",
   "execution_count": 155,
   "metadata": {},
   "outputs": [
    {
     "data": {
      "text/plain": [
       "[\n",
       "[0 1 0]  [0 2 0]  [1 0 0]  [1 0 0]  [1 1 0]  [1 2 0]  [2 1 0]  [2 2 0]\n",
       "[2 2 0]  [1 2 0]  [1 1 0]  [2 1 0]  [0 1 0]  [0 1 0]  [2 0 0]  [1 0 0]\n",
       "[0 0 1], [0 0 1], [0 0 1], [0 0 1], [0 0 1], [0 0 1], [0 0 1], [0 0 1]\n",
       "]"
      ]
     },
     "execution_count": 155,
     "metadata": {},
     "output_type": "execute_result"
    }
   ],
   "source": [
    "#JM element of (n,q,det) = (3,3,1)\n",
    "JM(3,3,1)"
   ]
  },
  {
   "cell_type": "code",
   "execution_count": null,
   "metadata": {},
   "outputs": [],
   "source": []
  },
  {
   "cell_type": "code",
   "execution_count": null,
   "metadata": {},
   "outputs": [],
   "source": []
  },
  {
   "cell_type": "code",
   "execution_count": null,
   "metadata": {},
   "outputs": [],
   "source": []
  },
  {
   "cell_type": "code",
   "execution_count": null,
   "metadata": {},
   "outputs": [],
   "source": []
  },
  {
   "cell_type": "code",
   "execution_count": 76,
   "metadata": {},
   "outputs": [],
   "source": []
  },
  {
   "cell_type": "code",
   "execution_count": null,
   "metadata": {},
   "outputs": [],
   "source": []
  },
  {
   "cell_type": "code",
   "execution_count": null,
   "metadata": {},
   "outputs": [],
   "source": []
  },
  {
   "cell_type": "code",
   "execution_count": null,
   "metadata": {},
   "outputs": [],
   "source": []
  },
  {
   "cell_type": "code",
   "execution_count": null,
   "metadata": {},
   "outputs": [],
   "source": []
  },
  {
   "cell_type": "code",
   "execution_count": null,
   "metadata": {},
   "outputs": [],
   "source": []
  },
  {
   "cell_type": "code",
   "execution_count": 341,
   "metadata": {},
   "outputs": [
    {
     "data": {
      "text/plain": [
       "[[[1, 2, 3], [2, 3], [3]], [[1, 1, 3], [2, 3], [3]]]"
      ]
     },
     "execution_count": 341,
     "metadata": {},
     "output_type": "execute_result"
    }
   ],
   "source": [
    "RSK([[0,0,2],[0,1,0],[1,1,1]])"
   ]
  },
  {
   "cell_type": "code",
   "execution_count": 339,
   "metadata": {},
   "outputs": [
    {
     "ename": "ValueError",
     "evalue": "invalid input",
     "output_type": "error",
     "traceback": [
      "\u001b[0;31m---------------------------------------------------------------------------\u001b[0m",
      "\u001b[0;31mValueError\u001b[0m                                Traceback (most recent call last)",
      "Cell \u001b[0;32mIn[339], line 1\u001b[0m\n\u001b[0;32m----> 1\u001b[0m RSK()\n",
      "File \u001b[0;32m~/miniconda3/envs/sage/lib/python3.10/site-packages/sage/combinat/rsk.py:3171\u001b[0m, in \u001b[0;36mRSK\u001b[0;34m(obj1, obj2, insertion, check_standard, **options)\u001b[0m\n\u001b[1;32m   3169\u001b[0m         obj1 \u001b[39m=\u001b[39m matrix(options[\u001b[39m'\u001b[39m\u001b[39mmatrix\u001b[39m\u001b[39m'\u001b[39m])\n\u001b[1;32m   3170\u001b[0m     \u001b[39melse\u001b[39;00m:\n\u001b[0;32m-> 3171\u001b[0m         \u001b[39mraise\u001b[39;00m \u001b[39mValueError\u001b[39;00m(\u001b[39m\"\u001b[39m\u001b[39minvalid input\u001b[39m\u001b[39m\"\u001b[39m)\n\u001b[1;32m   3173\u001b[0m \u001b[39mif\u001b[39;00m is_Matrix(obj1):\n\u001b[1;32m   3174\u001b[0m     obj1 \u001b[39m=\u001b[39m obj1\u001b[39m.\u001b[39mrows()\n",
      "\u001b[0;31mValueError\u001b[0m: invalid input"
     ]
    }
   ],
   "source": [
    "RSK()"
   ]
  },
  {
   "cell_type": "code",
   "execution_count": null,
   "metadata": {},
   "outputs": [],
   "source": []
  }
 ],
 "metadata": {
  "kernelspec": {
   "display_name": "SageMath 9.0 for VSCode",
   "language": "python",
   "name": "sagemath-vscode"
  },
  "vscode": {
   "interpreter": {
    "hash": "77f3ca55a5623d58525dd442039bce6a94d8204460f80473223ca8554c7ad392"
   }
  }
 },
 "nbformat": 4,
 "nbformat_minor": 4
}
